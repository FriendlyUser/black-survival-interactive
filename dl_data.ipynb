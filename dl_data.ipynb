{
 "cells": [
  {
   "cell_type": "code",
   "execution_count": null,
   "source": [
    "#i \"nuget:https://pkgs.dev.azure.com/dnceng/public/_packaging/dotnet5/nuget/v3/index.json\" \n",
    "#i \"nuget:https://pkgs.dev.azure.com/dnceng/public/_packaging/dotnet-tools/nuget/v3/index.json\" \n",
    "#r \"nuget: BserClient, 1.3.3\"\n",
    "#r \"nuget: dotenv.net, 3.0.0\""
   ],
   "outputs": [
    {
     "data": {
      "text/html": [
       "<div><div><strong>Restore sources</strong><ul><li><span>https://pkgs.dev.azure.com/dnceng/public/_packaging/dotnet-tools/nuget/v3/index.json</span></li><li><span>https://pkgs.dev.azure.com/dnceng/public/_packaging/dotnet5/nuget/v3/index.json</span></li></ul></div><div></div><div><strong>Installed Packages</strong><ul><li><span>BserClient, 1.3.3</span></li><li><span>dotenv.net, 3.0.0</span></li></ul></div></div>"
      ]
     },
     "metadata": {},
     "output_type": "display_data"
    }
   ],
   "metadata": {
    "dotnet_interactive": {
     "language": "csharp"
    }
   }
  },
  {
   "cell_type": "code",
   "execution_count": null,
   "source": [
    "using System.Text.Json;\n",
    "using System.Text.Json.Serialization;\n",
    "using System.IO;\n",
    "using BserClient;\n",
    "using System.Net;\n",
    "using System.Collections.Generic;\n",
    "using dotenv.net;\n",
    "using System.Reflection;\n",
    "DotEnv.Load();\n",
    "var envVars = DotEnv.Read();\n",
    "// Set up (called once per test)\n",
    "var API_KEY = envVars[\"BSER_API_KEY\"];\n",
    "// Set up (called once per test)\n",
    "var client = new BserClient.BserHttpClient(API_KEY);\n",
    "\n",
    "var gameMetaData = await client.GetData();\n",
    "var gameData = gameMetaData.data;\n",
    "Type type = gameData.GetType();\n",
    "PropertyInfo[] properties = type.GetProperties();\n",
    "\n",
    "\n",
    "// download all the data files\n",
    "foreach (PropertyInfo property in properties)\n",
    "{\n",
    "    if (property.Name != \"/\") {\n",
    "        var dynamicDataToSave = await client.GetData(property.Name);\n",
    "        string file_name = \"data/\" + property.Name +\".json\";\n",
    "        string json = JsonSerializer.Serialize(dynamicDataToSave);\n",
    "\n",
    "        File.WriteAllText(file_name, json);\n",
    "    }\n",
    "}\n",
    "\n",
    "// download the translation files\n",
    "\n",
    "var l1onData = await client.Getl10nData();\n",
    "\n",
    "// get url in l10n\n",
    "\n",
    "var l10nUrl = l1onData.data.l10Path;\n",
    "\n",
    "// Create a new WebClient instance.\n",
    "WebClient myWebClient = new WebClient();\n",
    "// Concatenate the domain with the Web resource filename.\n",
    "myWebClient.DownloadFile(l10nUrl,\"l10n.txt\");"
   ],
   "outputs": [
    {
     "output_type": "error",
     "ename": "Error",
     "evalue": "(40,24): error CS1061: 'Bserl10n' does not contain a definition for 'l10Path' and no accessible extension method 'l10Path' accepting a first argument of type 'Bserl10n' could be found (are you missing a using directive or an assembly reference?)",
     "traceback": [
      "(40,24): error CS1061: 'Bserl10n' does not contain a definition for 'l10Path' and no accessible extension method 'l10Path' accepting a first argument of type 'Bserl10n' could be found (are you missing a using directive or an assembly reference?)"
     ]
    }
   ],
   "metadata": {
    "dotnet_interactive": {
     "language": "csharp"
    }
   }
  }
 ],
 "metadata": {
  "kernelspec": {
   "display_name": ".NET (C#)",
   "language": "C#",
   "name": ".net-csharp"
  },
  "language_info": {
   "file_extension": ".cs",
   "mimetype": "text/x-csharp",
   "name": "C#",
   "pygments_lexer": "csharp",
   "version": "9.0"
  },
  "orig_nbformat": 4
 },
 "nbformat": 4,
 "nbformat_minor": 2
}