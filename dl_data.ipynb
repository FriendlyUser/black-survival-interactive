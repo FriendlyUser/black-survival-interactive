{
 "cells": [
  {
   "cell_type": "code",
   "execution_count": null,
   "source": [
    "#i \"nuget:https://pkgs.dev.azure.com/dnceng/public/_packaging/dotnet5/nuget/v3/index.json\" \n",
    "#i \"nuget:https://pkgs.dev.azure.com/dnceng/public/_packaging/dotnet-tools/nuget/v3/index.json\" \n",
    "#r \"nuget: BserClient, 1.3.0\"\n",
    "#r \"nuget: dotenv.net, 3.0.0\""
   ],
   "outputs": [
    {
     "data": {
      "text/html": [
       "<div><div><strong>Restore sources</strong><ul><li><span>https://pkgs.dev.azure.com/dnceng/public/_packaging/dotnet-tools/nuget/v3/index.json</span></li><li><span>https://pkgs.dev.azure.com/dnceng/public/_packaging/dotnet5/nuget/v3/index.json</span></li></ul></div><div></div><div></div></div>"
      ]
     },
     "metadata": {},
     "output_type": "display_data"
    }
   ],
   "metadata": {
    "dotnet_interactive": {
     "language": "csharp"
    }
   }
  },
  {
   "cell_type": "code",
   "execution_count": null,
   "source": [
    "using System.Text.Json;\n",
    "using System.Text.Json.Serialization;\n",
    "using System.IO;\n",
    "using BserClient;\n",
    "using System.Collections.Generic;\n",
    "using dotenv.net;\n",
    "using System.Reflection;\n",
    "DotEnv.Load();\n",
    "var envVars = DotEnv.Read();\n",
    "// Set up (called once per test)\n",
    "var API_KEY = envVars[\"BSER_API_KEY\"];\n",
    "// Set up (called once per test)\n",
    "var client = new BserClient.BserHttpClient(API_KEY);\n",
    "\n",
    "var gameMetaData = await client.GetData();\n",
    "var gameData = gameMetaData.data;\n",
    "Type type = gameData.GetType();\n",
    "PropertyInfo[] properties = type.GetProperties();\n",
    "\n",
    "foreach (PropertyInfo property in properties)\n",
    "{\n",
    "    if (property.Name != \"/\") {\n",
    "        var dynamicDataToSave = await client.GetData(property.Name);\n",
    "        string file_name = \"data/\" + property.Name +\".json\";\n",
    "        string json = JsonSerializer.Serialize(dynamicDataToSave);\n",
    "\n",
    "        File.WriteAllText(file_name, json);\n",
    "    }\n",
    "}\n"
   ],
   "outputs": [
    {
     "data": {
      "text/plain": [
       "BserClient.Types.BserMetaData\n"
      ]
     },
     "metadata": {},
     "output_type": "display_data"
    }
   ],
   "metadata": {
    "dotnet_interactive": {
     "language": "csharp"
    }
   }
  }
 ],
 "metadata": {
  "kernelspec": {
   "display_name": ".NET (C#)",
   "language": "C#",
   "name": ".net-csharp"
  },
  "language_info": {
   "file_extension": ".cs",
   "mimetype": "text/x-csharp",
   "name": "C#",
   "pygments_lexer": "csharp",
   "version": "9.0"
  },
  "orig_nbformat": 4
 },
 "nbformat": 4,
 "nbformat_minor": 2
}