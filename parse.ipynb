{
 "cells": [
  {
   "cell_type": "code",
   "execution_count": null,
   "metadata": {
    "dotnet_interactive": {
     "language": "csharp"
    }
   },
   "outputs": [
    {
     "data": {
      "text/html": [
       "<div><div></div><div><strong>Installed Packages</strong><ul><li><span>BserClient, 1.1.1</span></li></ul></div><div></div></div>"
      ]
     },
     "output_type": "unknown"
    }
   ],
   "source": [
    "#r \"nuget: BserClient, 1.1.1\""
   ]
  },
  {
   "cell_type": "code",
   "execution_count": null,
   "metadata": {
    "dotnet_interactive": {
     "language": "csharp"
    }
   },
   "outputs": [
    {
     "data": {
      "text/plain": [
       "480\n"
      ]
     },
     "output_type": "unknown"
    },
    {
     "data": {
      "text/plain": [
       "331\n"
      ]
     },
     "output_type": "unknown"
    }
   ],
   "source": [
    "using System.Text.Json;\n",
    "using System.Text.Json.Serialization;\n",
    "using System.IO;\n",
    "using BserClient;\n",
    "using System.Collections.Generic;\n",
    "\n",
    "string readText = File.ReadAllText(\"games.json\");\n",
    "\n",
    "List<BserClient.Types.UserGameObj> games = \n",
    "JsonSerializer.Deserialize<List<BserClient.Types.UserGameObj>>(readText);\n",
    "\n",
    "// List<dynamic> games = JsonSerializer.Deserialize<List<dynamic>>(readText);\n",
    "// var games = Json.Decode(readText);\n",
    "int ohioGames = 0;\n",
    "int koreaGames = 0;\n",
    "foreach (var game in games)\n",
    "{\n",
    "    if (game.matchingMode == 3 && game.seasonId == 3) {\n",
    "        if (game.serverName == \"Ohio\") ohioGames += 1;\n",
    "        if (game.serverName == \"Seoul\")  koreaGames += 1;\n",
    "    }\n",
    "}\n",
    "\n",
    "// get ohioGames vs korea games\n",
    "Console.WriteLine(ohioGames);\n",
    "Console.WriteLine(koreaGames);"
   ]
  },
  {
   "cell_type": "code",
   "execution_count": null,
   "metadata": {
    "dotnet_interactive": {
     "language": "csharp"
    }
   },
   "outputs": [],
   "source": [
    "void addOrUpdate(Dictionary<string, int> dic, string key, int newValue)\n",
    "{\n",
    "    int val;\n",
    "    if (dic.TryGetValue(key, out val))\n",
    "    {\n",
    "        // yay, value exists!\n",
    "        dic[key] = val + newValue;\n",
    "    }\n",
    "    else\n",
    "    {\n",
    "        // darn, lets add the value\n",
    "        dic.Add(key, newValue);\n",
    "    }\n",
    "}\n",
    "\n",
    "// go through each character\n",
    "// TODO count who kills me in general with another dictionary \n",
    "foreach (var game in games.GroupBy(x => x.characterNum))\n",
    "{\n",
    "    // counts how many deaths I have \n",
    "    Dictionary<string, int> killedByTimes =\n",
    "    new Dictionary<string, int>();\n",
    "    Console.WriteLine(\"Events for year: \" + game.Key);\n",
    "    foreach (var e in game) \n",
    "    {\n",
    "        // ignore games where I place first\n",
    "        if (game.gameRank != 1) {\n",
    "            // grab killerCharacter\n",
    "            // killerDetailNum\n",
    "            // add to list of characters where I got killed\n",
    "        }\n",
    "    }\n",
    "    // eventsInYear.Key - year\n",
    "    // eventsInYear - collection of events in that year\n",
    "}"
   ]
  }
 ],
 "metadata": {
  "kernelspec": {
   "display_name": ".NET (C#)",
   "language": "C#",
   "name": ".net-csharp"
  },
  "language_info": {
   "file_extension": ".cs",
   "mimetype": "text/x-csharp",
   "name": "C#",
   "pygments_lexer": "csharp",
   "version": "9.0"
  },
  "orig_nbformat": 4
 },
 "nbformat": 4,
 "nbformat_minor": 2
}