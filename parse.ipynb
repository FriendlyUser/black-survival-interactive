{
 "cells": [
  {
   "cell_type": "code",
   "execution_count": null,
   "source": [
    "#i \"nuget:https://pkgs.dev.azure.com/dnceng/public/_packaging/dotnet5/nuget/v3/index.json\" \n",
    "#i \"nuget:https://pkgs.dev.azure.com/dnceng/public/_packaging/dotnet-tools/nuget/v3/index.json\" \n",
    "#r \"nuget: BserClient, 1.3.1\""
   ],
   "outputs": [
    {
     "output_type": "display_data",
     "data": {
      "text/html": [
       "<div><div><strong>Restore sources</strong><ul><li><span>https://pkgs.dev.azure.com/dnceng/public/_packaging/dotnet-tools/nuget/v3/index.json</span></li><li><span>https://pkgs.dev.azure.com/dnceng/public/_packaging/dotnet5/nuget/v3/index.json</span></li></ul></div><div></div><div></div></div>"
      ]
     },
     "metadata": {}
    },
    {
     "output_type": "error",
     "ename": "Error",
     "evalue": "/opt/dotnet/5.0.202/sdk/5.0.202/NuGet.targets(131,5): error : Access to the path '/var/nuget/bserclient/1.1.1' is denied. [/tmp/nuget/23784--7750a77a-168e-419f-b489-947261297c33/Project.fsproj]\n/opt/dotnet/5.0.202/sdk/5.0.202/NuGet.targets(131,5): error :   Permission denied [/tmp/nuget/23784--7750a77a-168e-419f-b489-947261297c33/Project.fsproj]",
     "traceback": [
      "/opt/dotnet/5.0.202/sdk/5.0.202/NuGet.targets(131,5): error : Access to the path '/var/nuget/bserclient/1.1.1' is denied. [/tmp/nuget/23784--7750a77a-168e-419f-b489-947261297c33/Project.fsproj]\n",
      "/opt/dotnet/5.0.202/sdk/5.0.202/NuGet.targets(131,5): error :   Permission denied [/tmp/nuget/23784--7750a77a-168e-419f-b489-947261297c33/Project.fsproj]"
     ]
    }
   ],
   "metadata": {
    "dotnet_interactive": {
     "language": "csharp"
    }
   }
  },
  {
   "cell_type": "code",
   "execution_count": null,
   "source": [
    "using System.Text.Json;\n",
    "using System.Text.Json.Serialization;\n",
    "using System.IO;\n",
    "using BserClient;\n",
    "using System.Collections.Generic;\n",
    "\n",
    "string readText = File.ReadAllText(\"games.json\");\n",
    "\n",
    "List<BserClient.Types.UserGameObj> games = \n",
    "JsonSerializer.Deserialize<List<BserClient.Types.UserGameObj>>(readText);\n",
    "\n",
    "// List<dynamic> games = JsonSerializer.Deserialize<List<dynamic>>(readText);\n",
    "// var games = Json.Decode(readText);\n",
    "int ohioGames = 0;\n",
    "int koreaGames = 0;\n",
    "foreach (var game in games)\n",
    "{\n",
    "    if (game.matchingMode == 3 && game.seasonId == 3) {\n",
    "        if (game.serverName == \"Ohio\") ohioGames += 1;\n",
    "        if (game.serverName == \"Seoul\")  koreaGames += 1;\n",
    "    }\n",
    "}\n",
    "\n",
    "// get ohioGames vs korea games\n",
    "Console.WriteLine(ohioGames);\n",
    "Console.WriteLine(koreaGames);"
   ],
   "outputs": [
    {
     "output_type": "display_data",
     "data": {
      "text/plain": [
       "476\n"
      ]
     },
     "metadata": {}
    },
    {
     "output_type": "display_data",
     "data": {
      "text/plain": [
       "325\n"
      ]
     },
     "metadata": {}
    }
   ],
   "metadata": {
    "dotnet_interactive": {
     "language": "csharp"
    }
   }
  },
  {
   "cell_type": "code",
   "execution_count": null,
   "source": [
    "\n",
    "using System.IO;\n",
    "using System.Linq;\n",
    "void addOrUpdate(Dictionary<string, int> dic, string key, int newValue)\n",
    "{\n",
    "    int val;\n",
    "    if (dic.TryGetValue(key, out val))\n",
    "    {\n",
    "        // yay, value exists!\n",
    "        dic[key] = val + newValue;\n",
    "    }\n",
    "    else\n",
    "    {\n",
    "        // darn, lets add the value\n",
    "        dic.Add(key, newValue);\n",
    "    }\n",
    "}\n",
    "\n",
    "public class GameKillerCharactersData\n",
    "{\n",
    "    public string name { get; set; }\n",
    "    public int characterNum { get; set; }\n",
    "    public float mmrAvg {get; set;}\n",
    "    public string killDetail {get; set;}\n",
    "    public string causeOfDeath {get; set;}\n",
    "    public string placeOfDeath {get; set;}\n",
    "    public string killerCharacter {get; set;} \n",
    "    public string killerWeapon {get; set;} \n",
    "    public string killerUserNum2 {get; set;}\n",
    "    public string killerUserNum3 {get; set;}\n",
    "}\n",
    "\n",
    "public class Csv\n",
    "{\n",
    "    /// <summary>\n",
    "    ///  Generates csv file from a list of items from generic list\n",
    "    /// </summary>\n",
    "    public static string GenerateReport<T>(List<T> items) where T : class\n",
    "    {\n",
    "        var output = \"\";\n",
    "        var delimiter = \",\";\n",
    "        var properties = typeof(T).GetProperties()\n",
    "            .Where(n =>\n",
    "                n.PropertyType == typeof(string)\n",
    "                || n.PropertyType == typeof(bool)\n",
    "                || n.PropertyType == typeof(char)\n",
    "                || n.PropertyType == typeof(byte)\n",
    "                || n.PropertyType == typeof(decimal)\n",
    "                || n.PropertyType == typeof(int)\n",
    "            );\n",
    "        using (var sw = new StringWriter())\n",
    "        {\n",
    "            var header = properties\n",
    "                .Select(n => n.Name)\n",
    "                .Aggregate((a, b) => a + delimiter + b);\n",
    "            sw.WriteLine(header);\n",
    "            foreach (var item in items)\n",
    "            {\n",
    "                var row = properties\n",
    "                    .Select(n => n.GetValue(item, null))\n",
    "                    .Select(n => n == null ? null : n.ToString())\n",
    "                    .Aggregate((a, b) => a + delimiter + b);\n",
    "                sw.WriteLine(row);\n",
    "            }\n",
    "            output = sw.ToString();\n",
    "        }\n",
    "        return output;\n",
    "    }\n",
    "}\n",
    "\n",
    "\n",
    "List<GameKillerCharactersData> killData = new List<GameKillerCharactersData> {};\n",
    "// go through each character\n",
    "// TODO count who kills me in general with another dictionary \n",
    "foreach (var gameGroup in games.GroupBy(x => x.characterNum))\n",
    "{\n",
    "    // counts how many deaths I have \n",
    "    Dictionary<string, int> killedByTimes =\n",
    "    new Dictionary<string, int>();\n",
    "    Console.WriteLine(\"Events for year: \" + gameGroup.Key);\n",
    "    foreach (BserClient.Types.UserGameObj game in gameGroup) {\n",
    "        // ignore games where I place first\n",
    "        if (game.gameRank != 1) {\n",
    "            GameKillerCharactersData gameData = new GameKillerCharactersData();\n",
    "            String killerCharacter = game.killerCharacter;\n",
    "            // \"killer\":\"player\",\"killDetail\":\"CsMajor\",\"causeOfDeath\":\"basicAttack\",\"placeOfDeath\":\"13\",\"killerCharacter\":\"Emma\",\"killerWeapon\":\"DirectFire\",\"killerUserNum2\":0,\"killerUserNum3\":0\n",
    "            addOrUpdate(killedByTimes, killerCharacter, killedByTimes[killerCharacter] + 1);\n",
    "            Type typeOfMyObject = gameData.GetType();\n",
    "            System.Reflection.PropertyInfo[] properties =  typeOfMyObject.GetProperties();\n",
    "            foreach (System.Reflection.PropertyInfo property in properties)\n",
    "            {\n",
    "                Console.WriteLine(\"Name: \" + property.Name + \", Value: \" + property.GetValue(game, null));\n",
    "            }\n",
    "            // grab killerCharacter\n",
    "            // killerDetailNum\n",
    "            // add to list of characters where I got killed\n",
    "        }\n",
    "    }\n",
    "    // log results\n",
    "\n",
    "    // eventsInYear.Key - year\n",
    "    // eventsInYear - collection of events in that year\n",
    "}\n",
    "\n",
    "var csvEntries = Csv.GenerateReport<GameKillerCharactersData>(killData);\n",
    "\n",
    " // diff list if exists\n",
    " System.IO.File.WriteAllText(\"kills.csv\", csvEntries);\n",
    " "
   ],
   "outputs": [
    {
     "output_type": "error",
     "ename": "Error",
     "evalue": "(84,43): error CS1061: 'UserGameObj' does not contain a definition for 'killerCharacter' and no accessible extension method 'killerCharacter' accepting a first argument of type 'UserGameObj' could be found (are you missing a using directive or an assembly reference?)",
     "traceback": [
      "(84,43): error CS1061: 'UserGameObj' does not contain a definition for 'killerCharacter' and no accessible extension method 'killerCharacter' accepting a first argument of type 'UserGameObj' could be found (are you missing a using directive or an assembly reference?)"
     ]
    }
   ],
   "metadata": {
    "dotnet_interactive": {
     "language": "csharp"
    }
   }
  }
 ],
 "metadata": {
  "kernelspec": {
   "display_name": ".NET (C#)",
   "language": "C#",
   "name": ".net-csharp"
  },
  "language_info": {
   "file_extension": ".cs",
   "mimetype": "text/x-csharp",
   "name": "C#",
   "pygments_lexer": "csharp",
   "version": "9.0"
  },
  "orig_nbformat": 4
 },
 "nbformat": 4,
 "nbformat_minor": 2
}