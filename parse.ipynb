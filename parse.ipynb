{
 "cells": [
  {
   "cell_type": "code",
   "execution_count": null,
   "metadata": {
    "dotnet_interactive": {
     "language": "csharp"
    }
   },
   "outputs": [
    {
     "data": {
      "text/html": [
       "<div><div></div><div><strong>Installed Packages</strong><ul><li><span>BserClient, 1.1.1</span></li></ul></div><div></div></div>"
      ]
     },
     "output_type": "unknown"
    }
   ],
   "source": [
    "#r \"nuget: BserClient, 1.1.1\""
   ]
  },
  {
   "cell_type": "code",
   "execution_count": null,
   "metadata": {
    "dotnet_interactive": {
     "language": "csharp"
    }
   },
   "outputs": [
    {
     "data": {
      "text/plain": [
       "480\n"
      ]
     },
     "output_type": "unknown"
    },
    {
     "data": {
      "text/plain": [
       "331\n"
      ]
     },
     "output_type": "unknown"
    }
   ],
   "source": [
    "using System.Text.Json;\n",
    "using System.Text.Json.Serialization;\n",
    "using System.IO;\n",
    "using BserClient;\n",
    "using System.Collections.Generic;\n",
    "\n",
    "string readText = File.ReadAllText(\"games.json\");\n",
    "\n",
    "List<BserClient.Types.UserGameObj> games = \n",
    "JsonSerializer.Deserialize<List<BserClient.Types.UserGameObj>>(readText);\n",
    "\n",
    "// List<dynamic> games = JsonSerializer.Deserialize<List<dynamic>>(readText);\n",
    "// var games = Json.Decode(readText);\n",
    "int ohioGames = 0;\n",
    "int koreaGames = 0;\n",
    "foreach (var game in games)\n",
    "{\n",
    "    if (game.matchingMode == 3 && game.seasonId == 3) {\n",
    "        if (game.serverName == \"Ohio\") ohioGames += 1;\n",
    "        if (game.serverName == \"Seoul\")  koreaGames += 1;\n",
    "    }\n",
    "}\n",
    "\n",
    "// get ohioGames vs korea games\n",
    "Console.WriteLine(ohioGames);\n",
    "Console.WriteLine(koreaGames);"
   ]
  },
  {
   "cell_type": "code",
   "execution_count": null,
   "metadata": {
    "dotnet_interactive": {
     "language": "csharp"
    }
   },
   "outputs": [],
   "source": [
    "foreach (var game in games.GroupBy(x => x.characterNum))\n",
    "{\n",
    "    Console.WriteLine(\"Events for year: \" + game.Key);\n",
    "    foreach (var e in game) \n",
    "    {\n",
    "        Console.WriteLine(e);\n",
    "    }\n",
    "    // eventsInYear.Key - year\n",
    "    // eventsInYear - collection of events in that year\n",
    "}"
   ]
  }
 ],
 "metadata": {
  "kernelspec": {
   "display_name": ".NET (C#)",
   "language": "C#",
   "name": ".net-csharp"
  },
  "language_info": {
   "file_extension": ".cs",
   "mimetype": "text/x-csharp",
   "name": "C#",
   "pygments_lexer": "csharp",
   "version": "9.0"
  },
  "orig_nbformat": 4
 },
 "nbformat": 4,
 "nbformat_minor": 2
}