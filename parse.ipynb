{
 "cells": [
  {
   "cell_type": "code",
   "execution_count": null,
   "metadata": {
    "dotnet_interactive": {
     "language": "csharp"
    }
   },
   "outputs": [],
   "source": [
    "#r \"nuget: BserClient, 1.1.1\""
   ]
  },
  {
   "cell_type": "code",
   "execution_count": null,
   "metadata": {
    "dotnet_interactive": {
     "language": "csharp"
    }
   },
   "outputs": [
    {
     "data": {
      "text/plain": [
       "431\n"
      ]
     },
     "output_type": "unknown"
    },
    {
     "data": {
      "text/plain": [
       "315\n"
      ]
     },
     "output_type": "unknown"
    }
   ],
   "source": [
    "using System.Text.Json;\n",
    "using System.Text.Json.Serialization;\n",
    "using System.IO;\n",
    "using BserClient;\n",
    "using System.Collections.Generic;\n",
    "\n",
    "string readText = File.ReadAllText(\"games.json\");\n",
    "\n",
    "List<BserClient.Types.UserGameObj> games = \n",
    "JsonSerializer.Deserialize<List<BserClient.Types.UserGameObj>>(readText);\n",
    "\n",
    "// List<dynamic> games = JsonSerializer.Deserialize<List<dynamic>>(readText);\n",
    "// var games = Json.Decode(readText);\n",
    "int ohioGames = 0;\n",
    "int koreaGames = 0;\n",
    "foreach (var game in games)\n",
    "{\n",
    "    if (game.matchingMode == 3 && game.seasonId == 3) {\n",
    "        if (game.serverName == \"Ohio\") ohioGames += 1;\n",
    "        if (game.serverName == \"Seoul\")  koreaGames += 1;\n",
    "    }\n",
    "}\n",
    "\n",
    "Console.WriteLine(ohioGames);\n",
    "Console.WriteLine(koreaGames);"
   ]
  }
 ],
 "metadata": {
  "kernelspec": {
   "display_name": ".NET (C#)",
   "language": "C#",
   "name": ".net-csharp"
  },
  "language_info": {
   "file_extension": ".cs",
   "mimetype": "text/x-csharp",
   "name": "C#",
   "pygments_lexer": "csharp",
   "version": "9.0"
  },
  "orig_nbformat": 4
 },
 "nbformat": 4,
 "nbformat_minor": 2
}