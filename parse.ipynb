{
 "cells": [
  {
   "cell_type": "code",
   "execution_count": null,
   "source": [
    "#i \"nuget:https://pkgs.dev.azure.com/dnceng/public/_packaging/dotnet5/nuget/v3/index.json\" \n",
    "#i \"nuget:https://pkgs.dev.azure.com/dnceng/public/_packaging/dotnet-tools/nuget/v3/index.json\" \n",
    "#r \"nuget: BserClient, 1.3.0\""
   ],
   "outputs": [
    {
     "data": {
      "text/html": [
       "<div><div><strong>Restore sources</strong><ul><li><span>https://pkgs.dev.azure.com/dnceng/public/_packaging/dotnet-tools/nuget/v3/index.json</span></li><li><span>https://pkgs.dev.azure.com/dnceng/public/_packaging/dotnet5/nuget/v3/index.json</span></li></ul></div><div></div><div></div></div>"
      ]
     },
     "metadata": {},
     "output_type": "display_data"
    }
   ],
   "metadata": {
    "dotnet_interactive": {
     "language": "csharp"
    }
   }
  },
  {
   "cell_type": "code",
   "execution_count": null,
   "source": [
    "using System.Text.Json;\n",
    "using System.Text.Json.Serialization;\n",
    "using System.IO;\n",
    "using BserClient;\n",
    "using System.Collections.Generic;\n",
    "\n",
    "string readText = File.ReadAllText(\"games.json\");\n",
    "\n",
    "List<BserClient.Types.UserGameObj> games = \n",
    "JsonSerializer.Deserialize<List<BserClient.Types.UserGameObj>>(readText);\n",
    "\n",
    "// List<dynamic> games = JsonSerializer.Deserialize<List<dynamic>>(readText);\n",
    "// var games = Json.Decode(readText);\n",
    "int ohioGames = 0;\n",
    "int koreaGames = 0;\n",
    "foreach (var game in games)\n",
    "{\n",
    "    if (game.matchingMode == 3 && game.seasonId == 3) {\n",
    "        if (game.serverName == \"Ohio\") ohioGames += 1;\n",
    "        if (game.serverName == \"Seoul\")  koreaGames += 1;\n",
    "    }\n",
    "}\n",
    "\n",
    "// get ohioGames vs korea games\n",
    "Console.WriteLine(ohioGames);\n",
    "Console.WriteLine(koreaGames);"
   ],
   "outputs": [
    {
     "data": {
      "text/plain": [
       "498\n"
      ]
     },
     "metadata": {},
     "output_type": "display_data"
    },
    {
     "data": {
      "text/plain": [
       "327\n"
      ]
     },
     "metadata": {},
     "output_type": "display_data"
    }
   ],
   "metadata": {
    "dotnet_interactive": {
     "language": "csharp"
    }
   }
  },
  {
   "cell_type": "code",
   "execution_count": null,
   "source": [
    "\n",
    "using System.IO;\n",
    "using System.Linq;\n",
    "void addOrUpdate(Dictionary<string, int> dic, string key, int newValue)\n",
    "{\n",
    "    int val;\n",
    "    if (dic.TryGetValue(key, out val))\n",
    "    {\n",
    "        // yay, value exists!\n",
    "        dic[key] = val + newValue;\n",
    "    }\n",
    "    else\n",
    "    {\n",
    "        // darn, lets add the value\n",
    "        dic.Add(key, newValue);\n",
    "    }\n",
    "}\n",
    "\n",
    "public class GameKillerCharactersData\n",
    "{\n",
    "    public string name { get; set; }\n",
    "    public int characterNum { get; set; }\n",
    "    public float mmrAvg {get; set;}\n",
    "    public string killDetail {get; set;}\n",
    "    public string causeOfDeath {get; set;}\n",
    "    public string placeOfDeath {get; set;}\n",
    "    public string killerCharacter {get; set;} \n",
    "    public string killerWeapon {get; set;} \n",
    "    public string killerUserNum2 {get; set;}\n",
    "    public string killerUserNum3 {get; set;}\n",
    "}\n",
    "\n",
    "public class Csv\n",
    "{\n",
    "    /// <summary>\n",
    "    ///  Generates csv file from a list of items from generic list\n",
    "    /// </summary>\n",
    "    public static string GenerateReport<T>(List<T> items) where T : class\n",
    "    {\n",
    "        var output = \"\";\n",
    "        var delimiter = \",\";\n",
    "        var properties = typeof(T).GetProperties()\n",
    "            .Where(n =>\n",
    "                n.PropertyType == typeof(string)\n",
    "                || n.PropertyType == typeof(bool)\n",
    "                || n.PropertyType == typeof(char)\n",
    "                || n.PropertyType == typeof(byte)\n",
    "                || n.PropertyType == typeof(decimal)\n",
    "                || n.PropertyType == typeof(int)\n",
    "            );\n",
    "        using (var sw = new StringWriter())\n",
    "        {\n",
    "            var header = properties\n",
    "                .Select(n => n.Name)\n",
    "                .Aggregate((a, b) => a + delimiter + b);\n",
    "            sw.WriteLine(header);\n",
    "            foreach (var item in items)\n",
    "            {\n",
    "                var row = properties\n",
    "                    .Select(n => n.GetValue(item, null))\n",
    "                    .Select(n => n == null ? null : n.ToString())\n",
    "                    .Aggregate((a, b) => a + delimiter + b);\n",
    "                sw.WriteLine(row);\n",
    "            }\n",
    "            output = sw.ToString();\n",
    "        }\n",
    "        return output;\n",
    "    }\n",
    "}\n",
    "\n",
    "\n",
    "List<GameKillerCharactersData> killData = new List<GameKillerCharactersData> {};\n",
    "// go through each character\n",
    "\n",
    "string json = System.IO.File.ReadAllText(@\"data/Character.json\");\n",
    "System.Text.Json.JsonElement characterDict = System.Text.Json.JsonSerializer.Deserialize<System.Text.Json.JsonElement>(json);\n",
    "System.Text.Json.JsonElement characterData = characterDict.GetProperty(\"data\");\n",
    "// TODO count who kills me in general with another dictionary \n",
    "foreach (var gameGroup in games.GroupBy(x => x.characterNum))\n",
    "{\n",
    "    // counts how many deaths I have \n",
    "    Dictionary<string, int> killedByTimes =\n",
    "    new Dictionary<string, int>();\n",
    "    var characterIndex = Convert.ToInt32(gameGroup.Key-1);\n",
    "    System.Text.Json.JsonElement selectedCharacterData = characterData[characterIndex];\n",
    "    Console.WriteLine(selectedCharacterData);\n",
    "    var characterName = selectedCharacterData.GetProperty(\"name\");\n",
    "    Console.WriteLine(\"Info for characterNum: \" + characterName);\n",
    "    foreach (BserClient.Types.UserGameObj game in gameGroup) {\n",
    "        // ignore games where I place first\n",
    "        if (game.gameRank != 1) {\n",
    "            GameKillerCharactersData gameData = new GameKillerCharactersData();\n",
    "            String killerCharacter = game.killerCharacter;\n",
    "            if(killerCharacter != \"\" && killerCharacter != null) {\n",
    "                addOrUpdate(killedByTimes, killerCharacter, 1);\n",
    "            }\n",
    "        }\n",
    "    }\n",
    "    foreach (KeyValuePair<string, int> kvp in killedByTimes)\n",
    "    {\n",
    "        Console.WriteLine(\"Killed by: \" + kvp);\n",
    "        // if (kvp.Key != null) {\n",
    "        //     //textBox3.Text += (\"Key = {0}, Value = {1}\", kvp.Key, kvp.Value);\n",
    "        //     Console.WriteLine(\"Key = {0}, Value = {1}\", kvp.Key, kvp.Value);\n",
    "        // }\n",
    "    }\n",
    "\n",
    "    // make fancy plots here\n",
    "\n",
    "    // log results\n",
    "\n",
    "    // eventsInYear.Key - year\n",
    "    // eventsInYear - collection of events in that year\n",
    "}\n",
    "\n",
    "// var csvEntries = Csv.GenerateReport<GameKillerCharactersData>(killData);\n",
    "\n",
    "//  // diff list if exists\n",
    "//  System.IO.File.WriteAllText(\"kills.csv\", csvEntries);\n",
    " "
   ],
   "outputs": [
    {
     "data": {
      "text/plain": [
       "{\"code\":7,\"name\":\"Hyunwoo\",\"maxHp\":670,\"maxSp\":350,\"initExtraPoint\":0,\"maxExtraPoint\":0,\"attackPower\":34,\"defense\":23,\"criticalStrikeChance\":0,\"hpRegen\":0.8,\"spRegen\":1.8,\"attackSpeed\":0.12,\"attackSpeedLimit\":2.5,\"attackSpeedMin\":0,\"moveSpeed\":3.15,\"sightRange\":8,\"radius\":0.45,\"uiHeight\":2.7,\"resource\":\"Hyunwoo\"}\n"
      ]
     },
     "metadata": {},
     "output_type": "display_data"
    },
    {
     "data": {
      "text/plain": [
       "Info for characterNum: Hyunwoo\n"
      ]
     },
     "metadata": {},
     "output_type": "display_data"
    },
    {
     "data": {
      "text/plain": [
       "Killed by: [Barbara, 27]\n"
      ]
     },
     "metadata": {},
     "output_type": "display_data"
    },
    {
     "data": {
      "text/plain": [
       "Killed by: [Lenox, 22]\n"
      ]
     },
     "metadata": {},
     "output_type": "display_data"
    },
    {
     "data": {
      "text/plain": [
       "Killed by: [Shoichi, 41]\n"
      ]
     },
     "metadata": {},
     "output_type": "display_data"
    },
    {
     "data": {
      "text/plain": [
       "Killed by: [Magnus, 27]\n"
      ]
     },
     "metadata": {},
     "output_type": "display_data"
    },
    {
     "data": {
      "text/plain": [
       "Killed by: [Fiora, 19]\n"
      ]
     },
     "metadata": {},
     "output_type": "display_data"
    },
    {
     "data": {
      "text/plain": [
       "Killed by: [Sissela, 21]\n"
      ]
     },
     "metadata": {},
     "output_type": "display_data"
    },
    {
     "data": {
      "text/plain": [
       "Killed by: [Leon, 9]\n"
      ]
     },
     "metadata": {},
     "output_type": "display_data"
    },
    {
     "data": {
      "text/plain": [
       "Killed by: [Jackie, 54]\n"
      ]
     },
     "metadata": {},
     "output_type": "display_data"
    },
    {
     "data": {
      "text/plain": [
       "Killed by: [Chiara, 21]\n"
      ]
     },
     "metadata": {},
     "output_type": "display_data"
    },
    {
     "data": {
      "text/plain": [
       "Killed by: [Emma, 15]\n"
      ]
     },
     "metadata": {},
     "output_type": "display_data"
    },
    {
     "data": {
      "text/plain": [
       "Killed by: [Sua, 14]\n"
      ]
     },
     "metadata": {},
     "output_type": "display_data"
    },
    {
     "data": {
      "text/plain": [
       "Killed by: [Cathy, 26]\n"
      ]
     },
     "metadata": {},
     "output_type": "display_data"
    },
    {
     "data": {
      "text/plain": [
       "Killed by: [Rozzi, 32]\n"
      ]
     },
     "metadata": {},
     "output_type": "display_data"
    },
    {
     "data": {
      "text/plain": [
       "Killed by: [Rio, 6]\n"
      ]
     },
     "metadata": {},
     "output_type": "display_data"
    },
    {
     "data": {
      "text/plain": [
       "Killed by: [Yuki, 43]\n"
      ]
     },
     "metadata": {},
     "output_type": "display_data"
    },
    {
     "data": {
      "text/plain": [
       "Killed by: [LiDailin, 28]\n"
      ]
     },
     "metadata": {},
     "output_type": "display_data"
    },
    {
     "data": {
      "text/plain": [
       "Killed by: [Nadine, 32]\n"
      ]
     },
     "metadata": {},
     "output_type": "display_data"
    },
    {
     "data": {
      "text/plain": [
       "Killed by: [Hyejin, 16]\n"
      ]
     },
     "metadata": {},
     "output_type": "display_data"
    },
    {
     "data": {
      "text/plain": [
       "Killed by: [Silvia, 34]\n"
      ]
     },
     "metadata": {},
     "output_type": "display_data"
    },
    {
     "data": {
      "text/plain": [
       "Killed by: [Aya, 24]\n"
      ]
     },
     "metadata": {},
     "output_type": "display_data"
    },
    {
     "data": {
      "text/plain": [
       "Killed by: [Hart, 24]\n"
      ]
     },
     "metadata": {},
     "output_type": "display_data"
    },
    {
     "data": {
      "text/plain": [
       "Killed by: [Hyunwoo, 16]\n"
      ]
     },
     "metadata": {},
     "output_type": "display_data"
    },
    {
     "data": {
      "text/plain": [
       "Killed by: [Adriana, 21]\n"
      ]
     },
     "metadata": {},
     "output_type": "display_data"
    },
    {
     "data": {
      "text/plain": [
       "Killed by: [William, 1]\n"
      ]
     },
     "metadata": {},
     "output_type": "display_data"
    },
    {
     "data": {
      "text/plain": [
       "Killed by: [Luke, 30]\n"
      ]
     },
     "metadata": {},
     "output_type": "display_data"
    },
    {
     "data": {
      "text/plain": [
       "Killed by: [Adela, 15]\n"
      ]
     },
     "metadata": {},
     "output_type": "display_data"
    },
    {
     "data": {
      "text/plain": [
       "Killed by: [Isol, 24]\n"
      ]
     },
     "metadata": {},
     "output_type": "display_data"
    },
    {
     "data": {
      "text/plain": [
       "Killed by: [Eleven, 1]\n"
      ]
     },
     "metadata": {},
     "output_type": "display_data"
    },
    {
     "data": {
      "text/plain": [
       "Killed by: [Zahir, 17]\n"
      ]
     },
     "metadata": {},
     "output_type": "display_data"
    },
    {
     "data": {
      "text/plain": [
       "Killed by: [Bernice, 14]\n"
      ]
     },
     "metadata": {},
     "output_type": "display_data"
    },
    {
     "data": {
      "text/plain": [
       "Killed by: [Alex, 13]\n"
      ]
     },
     "metadata": {},
     "output_type": "display_data"
    },
    {
     "data": {
      "text/plain": [
       "Killed by: [Xiukai, 13]\n"
      ]
     },
     "metadata": {},
     "output_type": "display_data"
    },
    {
     "data": {
      "text/plain": [
       "{\"code\":4,\"name\":\"Magnus\",\"maxHp\":770,\"maxSp\":410,\"initExtraPoint\":0,\"maxExtraPoint\":0,\"attackPower\":32,\"defense\":25,\"criticalStrikeChance\":0,\"hpRegen\":1,\"spRegen\":1.9,\"attackSpeed\":0.16,\"attackSpeedLimit\":2.5,\"attackSpeedMin\":0,\"moveSpeed\":3.25,\"sightRange\":8,\"radius\":0.5,\"uiHeight\":2.95,\"resource\":\"Magnus\"}\n"
      ]
     },
     "metadata": {},
     "output_type": "display_data"
    },
    {
     "data": {
      "text/plain": [
       "Info for characterNum: Magnus\n"
      ]
     },
     "metadata": {},
     "output_type": "display_data"
    },
    {
     "data": {
      "text/plain": [
       "Killed by: [Adriana, 1]\n"
      ]
     },
     "metadata": {},
     "output_type": "display_data"
    },
    {
     "data": {
      "text/plain": [
       "{\"code\":1,\"name\":\"Jackie\",\"maxHp\":730,\"maxSp\":430,\"initExtraPoint\":0,\"maxExtraPoint\":0,\"attackPower\":35,\"defense\":26,\"criticalStrikeChance\":0,\"hpRegen\":0.5,\"spRegen\":2.1,\"attackSpeed\":0.12,\"attackSpeedLimit\":2.5,\"attackSpeedMin\":0,\"moveSpeed\":3.15,\"sightRange\":8,\"radius\":0.4,\"uiHeight\":2.6,\"resource\":\"Jackie\"}\n"
      ]
     },
     "metadata": {},
     "output_type": "display_data"
    },
    {
     "data": {
      "text/plain": [
       "Info for characterNum: Jackie\n"
      ]
     },
     "metadata": {},
     "output_type": "display_data"
    },
    {
     "data": {
      "text/plain": [
       "Killed by: [Nadine, 1]\n"
      ]
     },
     "metadata": {},
     "output_type": "display_data"
    },
    {
     "data": {
      "text/plain": [
       "Killed by: [Lenox, 1]\n"
      ]
     },
     "metadata": {},
     "output_type": "display_data"
    },
    {
     "data": {
      "text/plain": [
       "Killed by: [Hyunwoo, 1]\n"
      ]
     },
     "metadata": {},
     "output_type": "display_data"
    },
    {
     "data": {
      "text/plain": [
       "Killed by: [Adela, 2]\n"
      ]
     },
     "metadata": {},
     "output_type": "display_data"
    },
    {
     "data": {
      "text/plain": [
       "Killed by: [Yuki, 2]\n"
      ]
     },
     "metadata": {},
     "output_type": "display_data"
    },
    {
     "data": {
      "text/plain": [
       "Killed by: [Xiukai, 1]\n"
      ]
     },
     "metadata": {},
     "output_type": "display_data"
    },
    {
     "data": {
      "text/plain": [
       "Killed by: [LiDailin, 2]\n"
      ]
     },
     "metadata": {},
     "output_type": "display_data"
    },
    {
     "data": {
      "text/plain": [
       "Killed by: [Bernice, 1]\n"
      ]
     },
     "metadata": {},
     "output_type": "display_data"
    },
    {
     "data": {
      "text/plain": [
       "Killed by: [Chiara, 1]\n"
      ]
     },
     "metadata": {},
     "output_type": "display_data"
    },
    {
     "data": {
      "text/plain": [
       "Killed by: [Shoichi, 1]\n"
      ]
     },
     "metadata": {},
     "output_type": "display_data"
    },
    {
     "data": {
      "text/plain": [
       "Killed by: [Hart, 1]\n"
      ]
     },
     "metadata": {},
     "output_type": "display_data"
    },
    {
     "data": {
      "text/plain": [
       "Killed by: [Aya, 2]\n"
      ]
     },
     "metadata": {},
     "output_type": "display_data"
    },
    {
     "data": {
      "text/plain": [
       "Killed by: [Jackie, 1]\n"
      ]
     },
     "metadata": {},
     "output_type": "display_data"
    },
    {
     "data": {
      "text/plain": [
       "Killed by: [Silvia, 1]\n"
      ]
     },
     "metadata": {},
     "output_type": "display_data"
    },
    {
     "data": {
      "text/plain": [
       "{\"code\":28,\"name\":\"Sua\",\"maxHp\":720,\"maxSp\":480,\"initExtraPoint\":0,\"maxExtraPoint\":0,\"attackPower\":23,\"defense\":23,\"criticalStrikeChance\":0,\"hpRegen\":0.7,\"spRegen\":1.8,\"attackSpeed\":0.12,\"attackSpeedLimit\":2.5,\"attackSpeedMin\":0,\"moveSpeed\":3.15,\"sightRange\":8,\"radius\":0.4,\"uiHeight\":2.7,\"resource\":\"Sua\"}\n"
      ]
     },
     "metadata": {},
     "output_type": "display_data"
    },
    {
     "data": {
      "text/plain": [
       "Info for characterNum: Sua\n"
      ]
     },
     "metadata": {},
     "output_type": "display_data"
    },
    {
     "data": {
      "text/plain": [
       "Killed by: [Emma, 1]\n"
      ]
     },
     "metadata": {},
     "output_type": "display_data"
    },
    {
     "data": {
      "text/plain": [
       "Killed by: [Aya, 1]\n"
      ]
     },
     "metadata": {},
     "output_type": "display_data"
    },
    {
     "data": {
      "text/plain": [
       "Killed by: [LiDailin, 1]\n"
      ]
     },
     "metadata": {},
     "output_type": "display_data"
    },
    {
     "data": {
      "text/plain": [
       "Killed by: [Sua, 1]\n"
      ]
     },
     "metadata": {},
     "output_type": "display_data"
    },
    {
     "data": {
      "text/plain": [
       "Killed by: [Alex, 2]\n"
      ]
     },
     "metadata": {},
     "output_type": "display_data"
    },
    {
     "data": {
      "text/plain": [
       "Killed by: [Yuki, 2]\n"
      ]
     },
     "metadata": {},
     "output_type": "display_data"
    },
    {
     "data": {
      "text/plain": [
       "Killed by: [Adriana, 1]\n"
      ]
     },
     "metadata": {},
     "output_type": "display_data"
    },
    {
     "data": {
      "text/plain": [
       "Killed by: [Magnus, 1]\n"
      ]
     },
     "metadata": {},
     "output_type": "display_data"
    },
    {
     "data": {
      "text/plain": [
       "Killed by: [Jackie, 1]\n"
      ]
     },
     "metadata": {},
     "output_type": "display_data"
    },
    {
     "data": {
      "text/plain": [
       "Killed by: [Fiora, 1]\n"
      ]
     },
     "metadata": {},
     "output_type": "display_data"
    },
    {
     "data": {
      "text/plain": [
       "{\"code\":29,\"name\":\"Leon\",\"maxHp\":710,\"maxSp\":420,\"initExtraPoint\":0,\"maxExtraPoint\":100,\"attackPower\":29,\"defense\":22,\"criticalStrikeChance\":0,\"hpRegen\":1.1,\"spRegen\":2.2,\"attackSpeed\":0.05,\"attackSpeedLimit\":2.5,\"attackSpeedMin\":0,\"moveSpeed\":3.1,\"sightRange\":8,\"radius\":0.4,\"uiHeight\":2.7,\"resource\":\"Leon\"}\n"
      ]
     },
     "metadata": {},
     "output_type": "display_data"
    },
    {
     "data": {
      "text/plain": [
       "Info for characterNum: Leon\n"
      ]
     },
     "metadata": {},
     "output_type": "display_data"
    },
    {
     "data": {
      "text/plain": [
       "Killed by: [Hart, 2]\n"
      ]
     },
     "metadata": {},
     "output_type": "display_data"
    },
    {
     "data": {
      "text/plain": [
       "Killed by: [Rozzi, 1]\n"
      ]
     },
     "metadata": {},
     "output_type": "display_data"
    },
    {
     "data": {
      "text/plain": [
       "{\"code\":2,\"name\":\"Aya\",\"maxHp\":665,\"maxSp\":440,\"initExtraPoint\":0,\"maxExtraPoint\":0,\"attackPower\":22,\"defense\":25,\"criticalStrikeChance\":0,\"hpRegen\":0.5,\"spRegen\":2.3,\"attackSpeed\":0.16,\"attackSpeedLimit\":2.5,\"attackSpeedMin\":0,\"moveSpeed\":3.05,\"sightRange\":8,\"radius\":0.4,\"uiHeight\":2.6,\"resource\":\"Aya\"}\n"
      ]
     },
     "metadata": {},
     "output_type": "display_data"
    },
    {
     "data": {
      "text/plain": [
       "Info for characterNum: Aya\n"
      ]
     },
     "metadata": {},
     "output_type": "display_data"
    },
    {
     "data": {
      "text/plain": [
       "Killed by: [Hart, 1]\n"
      ]
     },
     "metadata": {},
     "output_type": "display_data"
    },
    {
     "data": {
      "text/plain": [
       "Killed by: [Luke, 4]\n"
      ]
     },
     "metadata": {},
     "output_type": "display_data"
    },
    {
     "data": {
      "text/plain": [
       "Killed by: [LiDailin, 2]\n"
      ]
     },
     "metadata": {},
     "output_type": "display_data"
    },
    {
     "data": {
      "text/plain": [
       "Killed by: [Sissela, 4]\n"
      ]
     },
     "metadata": {},
     "output_type": "display_data"
    },
    {
     "data": {
      "text/plain": [
       "Killed by: [Alex, 1]\n"
      ]
     },
     "metadata": {},
     "output_type": "display_data"
    },
    {
     "data": {
      "text/plain": [
       "Killed by: [Hyejin, 1]\n"
      ]
     },
     "metadata": {},
     "output_type": "display_data"
    },
    {
     "data": {
      "text/plain": [
       "Killed by: [Emma, 1]\n"
      ]
     },
     "metadata": {},
     "output_type": "display_data"
    },
    {
     "data": {
      "text/plain": [
       "Killed by: [Xiukai, 1]\n"
      ]
     },
     "metadata": {},
     "output_type": "display_data"
    },
    {
     "data": {
      "text/plain": [
       "Killed by: [Chiara, 3]\n"
      ]
     },
     "metadata": {},
     "output_type": "display_data"
    },
    {
     "data": {
      "text/plain": [
       "Killed by: [Aya, 1]\n"
      ]
     },
     "metadata": {},
     "output_type": "display_data"
    },
    {
     "data": {
      "text/plain": [
       "Killed by: [Jackie, 3]\n"
      ]
     },
     "metadata": {},
     "output_type": "display_data"
    },
    {
     "data": {
      "text/plain": [
       "Killed by: [Rozzi, 1]\n"
      ]
     },
     "metadata": {},
     "output_type": "display_data"
    },
    {
     "data": {
      "text/plain": [
       "Killed by: [Hyunwoo, 1]\n"
      ]
     },
     "metadata": {},
     "output_type": "display_data"
    },
    {
     "data": {
      "text/plain": [
       "Killed by: [Yuki, 1]\n"
      ]
     },
     "metadata": {},
     "output_type": "display_data"
    },
    {
     "data": {
      "text/plain": [
       "{\"code\":8,\"name\":\"Hart\",\"maxHp\":660,\"maxSp\":420,\"initExtraPoint\":0,\"maxExtraPoint\":0,\"attackPower\":24,\"defense\":25,\"criticalStrikeChance\":0,\"hpRegen\":0.8,\"spRegen\":1.7,\"attackSpeed\":0.09,\"attackSpeedLimit\":2.5,\"attackSpeedMin\":0,\"moveSpeed\":3.05,\"sightRange\":8,\"radius\":0.4,\"uiHeight\":2.65,\"resource\":\"Hart\"}\n"
      ]
     },
     "metadata": {},
     "output_type": "display_data"
    },
    {
     "data": {
      "text/plain": [
       "Info for characterNum: Hart\n"
      ]
     },
     "metadata": {},
     "output_type": "display_data"
    },
    {
     "data": {
      "text/plain": [
       "Killed by: [Jackie, 3]\n"
      ]
     },
     "metadata": {},
     "output_type": "display_data"
    },
    {
     "data": {
      "text/plain": [
       "Killed by: [Luke, 1]\n"
      ]
     },
     "metadata": {},
     "output_type": "display_data"
    },
    {
     "data": {
      "text/plain": [
       "Killed by: [Yuki, 2]\n"
      ]
     },
     "metadata": {},
     "output_type": "display_data"
    },
    {
     "data": {
      "text/plain": [
       "Killed by: [LiDailin, 1]\n"
      ]
     },
     "metadata": {},
     "output_type": "display_data"
    },
    {
     "data": {
      "text/plain": [
       "Killed by: [Bernice, 1]\n"
      ]
     },
     "metadata": {},
     "output_type": "display_data"
    },
    {
     "data": {
      "text/plain": [
       "Killed by: [Hyunwoo, 1]\n"
      ]
     },
     "metadata": {},
     "output_type": "display_data"
    },
    {
     "data": {
      "text/plain": [
       "{\"code\":11,\"name\":\"Yuki\",\"maxHp\":720,\"maxSp\":410,\"initExtraPoint\":4,\"maxExtraPoint\":4,\"attackPower\":26,\"defense\":26,\"criticalStrikeChance\":0,\"hpRegen\":0.7,\"spRegen\":2.2,\"attackSpeed\":0.08,\"attackSpeedLimit\":2.5,\"attackSpeedMin\":0,\"moveSpeed\":3.15,\"sightRange\":8,\"radius\":0.45,\"uiHeight\":2.9,\"resource\":\"Yuki\"}\n"
      ]
     },
     "metadata": {},
     "output_type": "display_data"
    },
    {
     "data": {
      "text/plain": [
       "Info for characterNum: Yuki\n"
      ]
     },
     "metadata": {},
     "output_type": "display_data"
    },
    {
     "data": {
      "text/plain": [
       "Killed by: [Yuki, 4]\n"
      ]
     },
     "metadata": {},
     "output_type": "display_data"
    },
    {
     "data": {
      "text/plain": [
       "Killed by: [Sissela, 2]\n"
      ]
     },
     "metadata": {},
     "output_type": "display_data"
    },
    {
     "data": {
      "text/plain": [
       "Killed by: [Aya, 2]\n"
      ]
     },
     "metadata": {},
     "output_type": "display_data"
    },
    {
     "data": {
      "text/plain": [
       "Killed by: [Fiora, 1]\n"
      ]
     },
     "metadata": {},
     "output_type": "display_data"
    },
    {
     "data": {
      "text/plain": [
       "Killed by: [Luke, 3]\n"
      ]
     },
     "metadata": {},
     "output_type": "display_data"
    },
    {
     "data": {
      "text/plain": [
       "Killed by: [Cathy, 1]\n"
      ]
     },
     "metadata": {},
     "output_type": "display_data"
    },
    {
     "data": {
      "text/plain": [
       "Killed by: [Nadine, 1]\n"
      ]
     },
     "metadata": {},
     "output_type": "display_data"
    },
    {
     "data": {
      "text/plain": [
       "Killed by: [Silvia, 1]\n"
      ]
     },
     "metadata": {},
     "output_type": "display_data"
    },
    {
     "data": {
      "text/plain": [
       "Killed by: [Jackie, 1]\n"
      ]
     },
     "metadata": {},
     "output_type": "display_data"
    },
    {
     "data": {
      "text/plain": [
       "{\"code\":9,\"name\":\"Isol\",\"maxHp\":660,\"maxSp\":400,\"initExtraPoint\":0,\"maxExtraPoint\":0,\"attackPower\":27,\"defense\":23,\"criticalStrikeChance\":0,\"hpRegen\":0.5,\"spRegen\":1.8,\"attackSpeed\":0.14,\"attackSpeedLimit\":2.5,\"attackSpeedMin\":0,\"moveSpeed\":3.05,\"sightRange\":8,\"radius\":0.4,\"uiHeight\":2.7,\"resource\":\"Isol\"}\n"
      ]
     },
     "metadata": {},
     "output_type": "display_data"
    },
    {
     "data": {
      "text/plain": [
       "Info for characterNum: Isol\n"
      ]
     },
     "metadata": {},
     "output_type": "display_data"
    },
    {
     "data": {
      "text/plain": [
       "Killed by: [Yuki, 1]\n"
      ]
     },
     "metadata": {},
     "output_type": "display_data"
    }
   ],
   "metadata": {
    "dotnet_interactive": {
     "language": "csharp"
    }
   }
  }
 ],
 "metadata": {
  "kernelspec": {
   "display_name": ".NET (C#)",
   "language": "C#",
   "name": ".net-csharp"
  },
  "language_info": {
   "file_extension": ".cs",
   "mimetype": "text/x-csharp",
   "name": "C#",
   "pygments_lexer": "csharp",
   "version": "9.0"
  },
  "orig_nbformat": 4
 },
 "nbformat": 4,
 "nbformat_minor": 2
}