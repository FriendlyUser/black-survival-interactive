{
 "cells": [
  {
   "cell_type": "code",
   "execution_count": null,
   "source": [
    "#r \"nuget: BserClient, 1.3.0\"\n",
    "#r \"nuget: dotenv.net, 3.0.0\""
   ],
   "outputs": [
    {
     "output_type": "display_data",
     "data": {
      "text/html": [
       "<div><div></div><div><strong>Installed Packages</strong><ul><li><span>BserClient, 1.3.0</span></li><li><span>dotenv.net, 3.0.0</span></li></ul></div><div></div></div>"
      ]
     },
     "metadata": {}
    }
   ],
   "metadata": {
    "dotnet_interactive": {
     "language": "csharp"
    }
   }
  },
  {
   "cell_type": "code",
   "execution_count": null,
   "source": [
    "// dak.gg provides and excellent ui for eternal return black survival\n",
    "// this personal api key is limited to 1 api request per second\n",
    "// please do not abuse this."
   ],
   "outputs": [],
   "metadata": {
    "dotnet_interactive": {
     "language": "csharp"
    }
   }
  },
  {
   "cell_type": "code",
   "execution_count": null,
   "source": [
    "using System;\n",
    "using System.Reflection;\n",
    "using System.IO;\n",
    "using BserClient;\n",
    "using System.Collections.Generic;\n",
    "using System.Text.Json;\n",
    "using dotenv.net;\n",
    "DotEnv.Load();\n",
    "var envVars = DotEnv.Read();\n",
    "// Set up (called once per test)\n",
    "var API_KEY = envVars[\"BSER_API_KEY\"];\n",
    "var client = new BserClient.BserHttpClient(API_KEY);\n",
    "// replace user id with something useful\n",
    "var user_id = 1284642;\n",
    "\n",
    "public async Task<BserClient.Types.BserUserGames> getAllGames(int user_id) {\n",
    "    var games = await client.GetUserGames(user_id);\n",
    "    var next = games.next;\n",
    "    while(next != 0) {\n",
    "        var nextGames = await client.GetUserGames(user_id, next);\n",
    "        next = nextGames.next;\n",
    "    }\n",
    "    return games;\n",
    "}\n",
    "public async System.Collections.Generic.IAsyncEnumerable<BserClient.Types.BserUserGames> FetchGames(int user_id)\n",
    "    {\n",
    "        var games = await client.GetUserGames(user_id);\n",
    "        yield return games;\n",
    "        var next = games.next;\n",
    "        while(next != 0) {\n",
    "            var nextGames = await client.GetUserGames(user_id, next);\n",
    "            next = nextGames.next;\n",
    "            yield return nextGames;\n",
    "        }\n",
    "    }\n",
    "\n",
    "public void WriteCSV<T>(IEnumerable<T> items, string path)\n",
    "{\n",
    "  Type itemType = typeof(T);\n",
    "  var props = itemType.GetProperties(BindingFlags.Public | BindingFlags.Instance)\n",
    "                      .OrderBy(p => p.Name);\n",
    "\n",
    "  using (var writer = new StreamWriter(path))\n",
    "  {\n",
    "    writer.WriteLine(string.Join(\", \", props.Select(p => p.Name)));\n",
    "\n",
    "    foreach (var item in items)\n",
    "    {\n",
    "      writer.WriteLine(string.Join(\", \", props.Select(p => p.GetValue(item, null))));\n",
    "    }\n",
    "  }\n",
    "}\n",
    "\n",
    "public static string GenerateReport<T>(List<T> items) where T : class\n",
    "{\n",
    "    var output = \"\";\n",
    "    var delimiter = \",\";\n",
    "    var properties = typeof(T).GetProperties();\n",
    "    using (var sw = new StringWriter())\n",
    "    {\n",
    "        var header = properties\n",
    "            .Select(n => n.Name)\n",
    "            .Aggregate((a, b) => a + delimiter + b);\n",
    "        sw.WriteLine(header);\n",
    "        foreach (var item in items)\n",
    "        {\n",
    "            var row = properties\n",
    "                .Select(n => n.GetValue(item, null))\n",
    "                .Select(n => n == null ? null : n.ToString())\n",
    "                .Aggregate((a, b) => a + delimiter + b);\n",
    "            sw.WriteLine(row);\n",
    "        }\n",
    "        output = sw.ToString();\n",
    "    }\n",
    "    return output;\n",
    "}\n",
    "\n",
    "List<BserClient.Types.UserGameObj>  userGames = new List<BserClient.Types.UserGameObj> {};\n",
    "// https://docs.microsoft.com/en-us/dotnet/csharp/language-reference/compiler-messages/cs8411\n",
    "await foreach (var games in FetchGames(user_id))\n",
    "{\n",
    "    foreach (var game in games.userGames) {\n",
    "        // ranked games for season 3\n",
    "        if (game.matchingMode == 3 &&  game.seasonId == 3)\n",
    "        {\n",
    "            // solo queue only\n",
    "            if (game.matchingTeamMode == 1) \n",
    "            {\n",
    "                userGames.Add(game);\n",
    "            }\n",
    "        }\n",
    "    }\n",
    "    Console.WriteLine(\"Getting game up to \" + games.next);\n",
    "}\n",
    "\n",
    "var json = JsonSerializer.Serialize(userGames);\n",
    "// WriteCSV<BserClient.Types.UserGameObj>(userGames, \"test.csv\");\n",
    "// synchronous method\n",
    "// var usergames = await getAllGames(user_id);\n",
    "File.WriteAllText(\"games/season2.json\", json);"
   ],
   "outputs": [
    {
     "output_type": "display_data",
     "data": {
      "text/plain": [
       "Getting game up to 10643289\n"
      ]
     },
     "metadata": {}
    },
    {
     "output_type": "display_data",
     "data": {
      "text/plain": [
       "Getting game up to 10630789\n"
      ]
     },
     "metadata": {}
    },
    {
     "output_type": "display_data",
     "data": {
      "text/plain": [
       "Getting game up to 10567375\n"
      ]
     },
     "metadata": {}
    },
    {
     "output_type": "display_data",
     "data": {
      "text/plain": [
       "Getting game up to 10563106\n"
      ]
     },
     "metadata": {}
    },
    {
     "output_type": "display_data",
     "data": {
      "text/plain": [
       "Getting game up to 10537761\n"
      ]
     },
     "metadata": {}
    },
    {
     "output_type": "display_data",
     "data": {
      "text/plain": [
       "Getting game up to 10465030\n"
      ]
     },
     "metadata": {}
    },
    {
     "output_type": "display_data",
     "data": {
      "text/plain": [
       "Getting game up to 10358458\n"
      ]
     },
     "metadata": {}
    },
    {
     "output_type": "display_data",
     "data": {
      "text/plain": [
       "Getting game up to 10321629\n"
      ]
     },
     "metadata": {}
    },
    {
     "output_type": "display_data",
     "data": {
      "text/plain": [
       "Getting game up to 10267251\n"
      ]
     },
     "metadata": {}
    },
    {
     "output_type": "display_data",
     "data": {
      "text/plain": [
       "Getting game up to 10214479\n"
      ]
     },
     "metadata": {}
    },
    {
     "output_type": "display_data",
     "data": {
      "text/plain": [
       "Getting game up to 10186763\n"
      ]
     },
     "metadata": {}
    },
    {
     "output_type": "display_data",
     "data": {
      "text/plain": [
       "Getting game up to 10150130\n"
      ]
     },
     "metadata": {}
    },
    {
     "output_type": "display_data",
     "data": {
      "text/plain": [
       "Getting game up to 10124452\n"
      ]
     },
     "metadata": {}
    },
    {
     "output_type": "display_data",
     "data": {
      "text/plain": [
       "Getting game up to 10087691\n"
      ]
     },
     "metadata": {}
    },
    {
     "output_type": "display_data",
     "data": {
      "text/plain": [
       "Getting game up to 10069388\n"
      ]
     },
     "metadata": {}
    },
    {
     "output_type": "display_data",
     "data": {
      "text/plain": [
       "Getting game up to 10043634\n"
      ]
     },
     "metadata": {}
    },
    {
     "output_type": "display_data",
     "data": {
      "text/plain": [
       "Getting game up to 10019098\n"
      ]
     },
     "metadata": {}
    },
    {
     "output_type": "display_data",
     "data": {
      "text/plain": [
       "Getting game up to 10013702\n"
      ]
     },
     "metadata": {}
    },
    {
     "output_type": "display_data",
     "data": {
      "text/plain": [
       "Getting game up to 9996629\n"
      ]
     },
     "metadata": {}
    },
    {
     "output_type": "display_data",
     "data": {
      "text/plain": [
       "Getting game up to 9967855\n"
      ]
     },
     "metadata": {}
    },
    {
     "output_type": "display_data",
     "data": {
      "text/plain": [
       "Getting game up to 9943445\n"
      ]
     },
     "metadata": {}
    },
    {
     "output_type": "display_data",
     "data": {
      "text/plain": [
       "Getting game up to 9907793\n"
      ]
     },
     "metadata": {}
    },
    {
     "output_type": "display_data",
     "data": {
      "text/plain": [
       "Getting game up to 9876161\n"
      ]
     },
     "metadata": {}
    },
    {
     "output_type": "display_data",
     "data": {
      "text/plain": [
       "Getting game up to 9855478\n"
      ]
     },
     "metadata": {}
    },
    {
     "output_type": "display_data",
     "data": {
      "text/plain": [
       "Getting game up to 9811992\n"
      ]
     },
     "metadata": {}
    },
    {
     "output_type": "display_data",
     "data": {
      "text/plain": [
       "Getting game up to 9806199\n"
      ]
     },
     "metadata": {}
    },
    {
     "output_type": "display_data",
     "data": {
      "text/plain": [
       "Getting game up to 9780321\n"
      ]
     },
     "metadata": {}
    },
    {
     "output_type": "display_data",
     "data": {
      "text/plain": [
       "Getting game up to 9727510\n"
      ]
     },
     "metadata": {}
    },
    {
     "output_type": "display_data",
     "data": {
      "text/plain": [
       "Getting game up to 9675154\n"
      ]
     },
     "metadata": {}
    },
    {
     "output_type": "display_data",
     "data": {
      "text/plain": [
       "Getting game up to 9654358\n"
      ]
     },
     "metadata": {}
    },
    {
     "output_type": "display_data",
     "data": {
      "text/plain": [
       "Getting game up to 9633065\n"
      ]
     },
     "metadata": {}
    },
    {
     "output_type": "display_data",
     "data": {
      "text/plain": [
       "Getting game up to 9609846\n"
      ]
     },
     "metadata": {}
    },
    {
     "output_type": "display_data",
     "data": {
      "text/plain": [
       "Getting game up to 9579973\n"
      ]
     },
     "metadata": {}
    },
    {
     "output_type": "display_data",
     "data": {
      "text/plain": [
       "Getting game up to 9556092\n"
      ]
     },
     "metadata": {}
    },
    {
     "output_type": "display_data",
     "data": {
      "text/plain": [
       "Getting game up to 9551420\n"
      ]
     },
     "metadata": {}
    },
    {
     "output_type": "display_data",
     "data": {
      "text/plain": [
       "Getting game up to 9501587\n"
      ]
     },
     "metadata": {}
    },
    {
     "output_type": "display_data",
     "data": {
      "text/plain": [
       "Getting game up to 9478707\n"
      ]
     },
     "metadata": {}
    },
    {
     "output_type": "display_data",
     "data": {
      "text/plain": [
       "Getting game up to 9453767\n"
      ]
     },
     "metadata": {}
    },
    {
     "output_type": "display_data",
     "data": {
      "text/plain": [
       "Getting game up to 9341547\n"
      ]
     },
     "metadata": {}
    },
    {
     "output_type": "display_data",
     "data": {
      "text/plain": [
       "Getting game up to 9338068\n"
      ]
     },
     "metadata": {}
    },
    {
     "output_type": "display_data",
     "data": {
      "text/plain": [
       "Getting game up to 9313606\n"
      ]
     },
     "metadata": {}
    },
    {
     "output_type": "display_data",
     "data": {
      "text/plain": [
       "Getting game up to 9288341\n"
      ]
     },
     "metadata": {}
    },
    {
     "output_type": "display_data",
     "data": {
      "text/plain": [
       "Getting game up to 9198910\n"
      ]
     },
     "metadata": {}
    },
    {
     "output_type": "display_data",
     "data": {
      "text/plain": [
       "Getting game up to 9086583\n"
      ]
     },
     "metadata": {}
    },
    {
     "output_type": "display_data",
     "data": {
      "text/plain": [
       "Getting game up to 9062528\n"
      ]
     },
     "metadata": {}
    },
    {
     "output_type": "display_data",
     "data": {
      "text/plain": [
       "Getting game up to 9041224\n"
      ]
     },
     "metadata": {}
    },
    {
     "output_type": "display_data",
     "data": {
      "text/plain": [
       "Getting game up to 9036978\n"
      ]
     },
     "metadata": {}
    },
    {
     "output_type": "display_data",
     "data": {
      "text/plain": [
       "Getting game up to 9013033\n"
      ]
     },
     "metadata": {}
    },
    {
     "output_type": "display_data",
     "data": {
      "text/plain": [
       "Getting game up to 9008817\n"
      ]
     },
     "metadata": {}
    },
    {
     "output_type": "display_data",
     "data": {
      "text/plain": [
       "Getting game up to 8983482\n"
      ]
     },
     "metadata": {}
    },
    {
     "output_type": "display_data",
     "data": {
      "text/plain": [
       "Getting game up to 8980399\n"
      ]
     },
     "metadata": {}
    },
    {
     "output_type": "display_data",
     "data": {
      "text/plain": [
       "Getting game up to 8954655\n"
      ]
     },
     "metadata": {}
    },
    {
     "output_type": "display_data",
     "data": {
      "text/plain": [
       "Getting game up to 8930521\n"
      ]
     },
     "metadata": {}
    },
    {
     "output_type": "display_data",
     "data": {
      "text/plain": [
       "Getting game up to 8909052\n"
      ]
     },
     "metadata": {}
    },
    {
     "output_type": "display_data",
     "data": {
      "text/plain": [
       "Getting game up to 8903487\n"
      ]
     },
     "metadata": {}
    },
    {
     "output_type": "display_data",
     "data": {
      "text/plain": [
       "Getting game up to 8882574\n"
      ]
     },
     "metadata": {}
    },
    {
     "output_type": "display_data",
     "data": {
      "text/plain": [
       "Getting game up to 8860681\n"
      ]
     },
     "metadata": {}
    },
    {
     "output_type": "display_data",
     "data": {
      "text/plain": [
       "Getting game up to 8851318\n"
      ]
     },
     "metadata": {}
    },
    {
     "output_type": "display_data",
     "data": {
      "text/plain": [
       "Getting game up to 8826196\n"
      ]
     },
     "metadata": {}
    },
    {
     "output_type": "display_data",
     "data": {
      "text/plain": [
       "Getting game up to 8821836\n"
      ]
     },
     "metadata": {}
    },
    {
     "output_type": "display_data",
     "data": {
      "text/plain": [
       "Getting game up to 8797493\n"
      ]
     },
     "metadata": {}
    },
    {
     "output_type": "display_data",
     "data": {
      "text/plain": [
       "Getting game up to 8769631\n"
      ]
     },
     "metadata": {}
    },
    {
     "output_type": "display_data",
     "data": {
      "text/plain": [
       "Getting game up to 8767369\n"
      ]
     },
     "metadata": {}
    },
    {
     "output_type": "display_data",
     "data": {
      "text/plain": [
       "Getting game up to 8761810\n"
      ]
     },
     "metadata": {}
    },
    {
     "output_type": "display_data",
     "data": {
      "text/plain": [
       "Getting game up to 8755624\n"
      ]
     },
     "metadata": {}
    },
    {
     "output_type": "display_data",
     "data": {
      "text/plain": [
       "Getting game up to 8735604\n"
      ]
     },
     "metadata": {}
    },
    {
     "output_type": "display_data",
     "data": {
      "text/plain": [
       "Getting game up to 8721761\n"
      ]
     },
     "metadata": {}
    },
    {
     "output_type": "display_data",
     "data": {
      "text/plain": [
       "Getting game up to 8699428\n"
      ]
     },
     "metadata": {}
    },
    {
     "output_type": "display_data",
     "data": {
      "text/plain": [
       "Getting game up to 8691834\n"
      ]
     },
     "metadata": {}
    },
    {
     "output_type": "display_data",
     "data": {
      "text/plain": [
       "Getting game up to 8672661\n"
      ]
     },
     "metadata": {}
    },
    {
     "output_type": "display_data",
     "data": {
      "text/plain": [
       "Getting game up to 8648624\n"
      ]
     },
     "metadata": {}
    },
    {
     "output_type": "display_data",
     "data": {
      "text/plain": [
       "Getting game up to 8618849\n"
      ]
     },
     "metadata": {}
    },
    {
     "output_type": "display_data",
     "data": {
      "text/plain": [
       "Getting game up to 8613606\n"
      ]
     },
     "metadata": {}
    },
    {
     "output_type": "display_data",
     "data": {
      "text/plain": [
       "Getting game up to 8611723\n"
      ]
     },
     "metadata": {}
    },
    {
     "output_type": "display_data",
     "data": {
      "text/plain": [
       "Getting game up to 8586213\n"
      ]
     },
     "metadata": {}
    },
    {
     "output_type": "display_data",
     "data": {
      "text/plain": [
       "Getting game up to 8536037\n"
      ]
     },
     "metadata": {}
    },
    {
     "output_type": "display_data",
     "data": {
      "text/plain": [
       "Getting game up to 8531565\n"
      ]
     },
     "metadata": {}
    },
    {
     "output_type": "display_data",
     "data": {
      "text/plain": [
       "Getting game up to 8520220\n"
      ]
     },
     "metadata": {}
    },
    {
     "output_type": "display_data",
     "data": {
      "text/plain": [
       "Getting game up to 8501987\n"
      ]
     },
     "metadata": {}
    },
    {
     "output_type": "display_data",
     "data": {
      "text/plain": [
       "Getting game up to 8492542\n"
      ]
     },
     "metadata": {}
    },
    {
     "output_type": "display_data",
     "data": {
      "text/plain": [
       "Getting game up to 8473224\n"
      ]
     },
     "metadata": {}
    },
    {
     "output_type": "display_data",
     "data": {
      "text/plain": [
       "Getting game up to 8436983\n"
      ]
     },
     "metadata": {}
    },
    {
     "output_type": "display_data",
     "data": {
      "text/plain": [
       "Getting game up to 8401626\n"
      ]
     },
     "metadata": {}
    },
    {
     "output_type": "display_data",
     "data": {
      "text/plain": [
       "Getting game up to 8386877\n"
      ]
     },
     "metadata": {}
    },
    {
     "output_type": "display_data",
     "data": {
      "text/plain": [
       "Getting game up to 8367516\n"
      ]
     },
     "metadata": {}
    },
    {
     "output_type": "display_data",
     "data": {
      "text/plain": [
       "Getting game up to 8338322\n"
      ]
     },
     "metadata": {}
    },
    {
     "output_type": "display_data",
     "data": {
      "text/plain": [
       "Getting game up to 8327013\n"
      ]
     },
     "metadata": {}
    },
    {
     "output_type": "display_data",
     "data": {
      "text/plain": [
       "Getting game up to 8308623\n"
      ]
     },
     "metadata": {}
    },
    {
     "output_type": "display_data",
     "data": {
      "text/plain": [
       "Getting game up to 8281816\n"
      ]
     },
     "metadata": {}
    },
    {
     "output_type": "display_data",
     "data": {
      "text/plain": [
       "Getting game up to 8280182\n"
      ]
     },
     "metadata": {}
    },
    {
     "output_type": "display_data",
     "data": {
      "text/plain": [
       "Getting game up to 8277685\n"
      ]
     },
     "metadata": {}
    },
    {
     "output_type": "display_data",
     "data": {
      "text/plain": [
       "Getting game up to 8257238\n"
      ]
     },
     "metadata": {}
    },
    {
     "output_type": "display_data",
     "data": {
      "text/plain": [
       "Getting game up to 8251834\n"
      ]
     },
     "metadata": {}
    },
    {
     "output_type": "display_data",
     "data": {
      "text/plain": [
       "Getting game up to 8248947\n"
      ]
     },
     "metadata": {}
    },
    {
     "output_type": "display_data",
     "data": {
      "text/plain": [
       "Getting game up to 0\n"
      ]
     },
     "metadata": {}
    }
   ],
   "metadata": {
    "dotnet_interactive": {
     "language": "csharp"
    }
   }
  },
  {
   "cell_type": "code",
   "execution_count": null,
   "source": [],
   "outputs": [],
   "metadata": {
    "dotnet_interactive": {
     "language": "csharp"
    }
   }
  }
 ],
 "metadata": {
  "interpreter": {
   "hash": "d9af2e32a5ad6e5c5f98229481d7f4ca3d60c1f6ad52fd9ba4da285d14500705"
  },
  "kernelspec": {
   "display_name": ".NET (C#)",
   "name": ".net-csharp",
   "language": "C#"
  },
  "language_info": {
   "file_extension": ".cs",
   "mimetype": "text/x-csharp",
   "name": "C#",
   "pygments_lexer": "csharp",
   "version": "9.0"
  }
 },
 "nbformat": 4,
 "nbformat_minor": 2
}