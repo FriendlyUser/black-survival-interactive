{
 "cells": [
  {
   "cell_type": "code",
   "execution_count": null,
   "source": [
    "#r \"nuget: BserClient, 1.3.0\"\n",
    "#r \"nuget: dotenv.net, 3.0.0\""
   ],
   "outputs": [
    {
     "data": {
      "text/html": [
       "<div><div></div><div></div><div></div></div>"
      ]
     },
     "metadata": {},
     "output_type": "display_data"
    }
   ],
   "metadata": {
    "dotnet_interactive": {
     "language": "csharp"
    }
   }
  },
  {
   "cell_type": "code",
   "execution_count": null,
   "source": [
    "// dak.gg provides and excellent ui for eternal return black survival\n",
    "// this personal api key is limited to 1 api request per second\n",
    "// please do not abuse this."
   ],
   "outputs": [],
   "metadata": {
    "dotnet_interactive": {
     "language": "csharp"
    }
   }
  },
  {
   "cell_type": "code",
   "execution_count": null,
   "source": [
    "using System;\n",
    "using System.Reflection;\n",
    "using System.IO;\n",
    "using BserClient;\n",
    "using System.Collections.Generic;\n",
    "using System.Text.Json;\n",
    "using dotenv.net;\n",
    "DotEnv.Load();\n",
    "var envVars = DotEnv.Read();\n",
    "// Set up (called once per test)\n",
    "var API_KEY = envVars[\"BSER_API_KEY\"];\n",
    "var client = new BserClient.BserHttpClient(API_KEY);\n",
    "// replace user id with something useful\n",
    "var user_id = 1284642;\n",
    "\n",
    "public async Task<BserClient.Types.BserUserGames> getAllGames(int user_id) {\n",
    "    var games = await client.GetUserGames(user_id);\n",
    "    var next = games.next;\n",
    "    while(next != 0) {\n",
    "        var nextGames = await client.GetUserGames(user_id, next);\n",
    "        next = nextGames.next;\n",
    "    }\n",
    "    return games;\n",
    "}\n",
    "public async System.Collections.Generic.IAsyncEnumerable<BserClient.Types.BserUserGames> FetchGames(int user_id)\n",
    "    {\n",
    "        var games = await client.GetUserGames(user_id);\n",
    "        yield return games;\n",
    "        var next = games.next;\n",
    "        while(next != 0) {\n",
    "            var nextGames = await client.GetUserGames(user_id, next);\n",
    "            next = nextGames.next;\n",
    "            yield return nextGames;\n",
    "        }\n",
    "    }\n",
    "\n",
    "public void WriteCSV<T>(IEnumerable<T> items, string path)\n",
    "{\n",
    "  Type itemType = typeof(T);\n",
    "  var props = itemType.GetProperties(BindingFlags.Public | BindingFlags.Instance)\n",
    "                      .OrderBy(p => p.Name);\n",
    "\n",
    "  using (var writer = new StreamWriter(path))\n",
    "  {\n",
    "    writer.WriteLine(string.Join(\", \", props.Select(p => p.Name)));\n",
    "\n",
    "    foreach (var item in items)\n",
    "    {\n",
    "      writer.WriteLine(string.Join(\", \", props.Select(p => p.GetValue(item, null))));\n",
    "    }\n",
    "  }\n",
    "}\n",
    "\n",
    "public static string GenerateReport<T>(List<T> items) where T : class\n",
    "{\n",
    "    var output = \"\";\n",
    "    var delimiter = \",\";\n",
    "    var properties = typeof(T).GetProperties();\n",
    "    using (var sw = new StringWriter())\n",
    "    {\n",
    "        var header = properties\n",
    "            .Select(n => n.Name)\n",
    "            .Aggregate((a, b) => a + delimiter + b);\n",
    "        sw.WriteLine(header);\n",
    "        foreach (var item in items)\n",
    "        {\n",
    "            var row = properties\n",
    "                .Select(n => n.GetValue(item, null))\n",
    "                .Select(n => n == null ? null : n.ToString())\n",
    "                .Aggregate((a, b) => a + delimiter + b);\n",
    "            sw.WriteLine(row);\n",
    "        }\n",
    "        output = sw.ToString();\n",
    "    }\n",
    "    return output;\n",
    "}\n",
    "\n",
    "List<BserClient.Types.UserGameObj>  userGames = new List<BserClient.Types.UserGameObj> {};\n",
    "// https://docs.microsoft.com/en-us/dotnet/csharp/language-reference/compiler-messages/cs8411\n",
    "await foreach (var games in FetchGames(user_id))\n",
    "{\n",
    "    foreach (var game in games.userGames) {\n",
    "        // ranked games for season 3\n",
    "        if (game.matchingMode == 3 &&  game.seasonId == 3)\n",
    "        {\n",
    "            // solo queue only\n",
    "            if (game.matchingTeamMode == 1) \n",
    "            {\n",
    "                userGames.Add(game);\n",
    "            }\n",
    "        }\n",
    "    }\n",
    "    Console.WriteLine(\"Getting game up to \" + games.next);\n",
    "}\n",
    "\n",
    "var json = JsonSerializer.Serialize(userGames);\n",
    "// WriteCSV<BserClient.Types.UserGameObj>(userGames, \"test.csv\");\n",
    "// synchronous method\n",
    "// var usergames = await getAllGames(user_id);\n",
    "File.WriteAllText(\"games.json\", json);"
   ],
   "outputs": [
    {
     "output_type": "error",
     "ename": "Error",
     "evalue": "(78,58): error CS1031: Type expected",
     "traceback": [
      "(78,58): error CS1031: Type expected"
     ]
    }
   ],
   "metadata": {
    "dotnet_interactive": {
     "language": "csharp"
    }
   }
  },
  {
   "cell_type": "code",
   "execution_count": null,
   "source": [],
   "outputs": [],
   "metadata": {
    "dotnet_interactive": {
     "language": "csharp"
    }
   }
  }
 ],
 "metadata": {
  "interpreter": {
   "hash": "d9af2e32a5ad6e5c5f98229481d7f4ca3d60c1f6ad52fd9ba4da285d14500705"
  },
  "kernelspec": {
   "display_name": ".NET (C#)",
   "name": ".net-csharp",
   "language": "C#"
  },
  "language_info": {
   "file_extension": ".cs",
   "mimetype": "text/x-csharp",
   "name": "C#",
   "pygments_lexer": "csharp",
   "version": "9.0"
  }
 },
 "nbformat": 4,
 "nbformat_minor": 2
}