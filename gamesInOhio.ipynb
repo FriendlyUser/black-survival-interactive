{
 "cells": [
  {
   "cell_type": "code",
   "execution_count": null,
   "source": [
    "#r \"nuget: BserClient, 1.3.0\"\n",
    "#r \"nuget: dotenv.net, 3.0.0\""
   ],
   "outputs": [
    {
     "data": {
      "text/html": [
       "<div><div></div><div><strong>Installed Packages</strong><ul><li><span>BserClient, 1.3.0</span></li><li><span>dotenv.net, 3.0.0</span></li></ul></div><div></div></div>"
      ]
     },
     "metadata": {},
     "output_type": "display_data"
    }
   ],
   "metadata": {
    "dotnet_interactive": {
     "language": "csharp"
    }
   }
  },
  {
   "cell_type": "code",
   "execution_count": null,
   "source": [
    "// dak.gg provides and excellent ui for eternal return black survival\n",
    "// this personal api key is limited to 1 api request per second\n",
    "// please do not abuse this."
   ],
   "outputs": [],
   "metadata": {
    "dotnet_interactive": {
     "language": "csharp"
    }
   }
  },
  {
   "cell_type": "code",
   "execution_count": null,
   "source": [
    "using System;\n",
    "using System.Reflection;\n",
    "using System.IO;\n",
    "using BserClient;\n",
    "using System.Collections.Generic;\n",
    "using System.Text.Json;\n",
    "using dotenv.net;\n",
    "DotEnv.Load();\n",
    "var envVars = DotEnv.Read();\n",
    "// Set up (called once per test)\n",
    "var API_KEY = envVars[\"BSER_API_KEY\"];\n",
    "var client = new BserClient.BserHttpClient(API_KEY);\n",
    "// replace user id with something useful\n",
    "var user_id = 1284642;\n",
    "\n",
    "public async Task<BserClient.Types.BserUserGames> getAllGames(int user_id) {\n",
    "    var games = await client.GetUserGames(user_id);\n",
    "    var next = games.next;\n",
    "    while(next != 0) {\n",
    "        var nextGames = await client.GetUserGames(user_id, next);\n",
    "        next = nextGames.next;\n",
    "    }\n",
    "    return games;\n",
    "}\n",
    "public async System.Collections.Generic.IAsyncEnumerable<BserClient.Types.BserUserGames> FetchGames(int user_id)\n",
    "    {\n",
    "        var games = await client.GetUserGames(user_id);\n",
    "        yield return games;\n",
    "        var next = games.next;\n",
    "        while(next != 0) {\n",
    "            var nextGames = await client.GetUserGames(user_id, next);\n",
    "            next = nextGames.next;\n",
    "            yield return nextGames;\n",
    "        }\n",
    "    }\n",
    "\n",
    "public void WriteCSV<T>(IEnumerable<T> items, string path)\n",
    "{\n",
    "  Type itemType = typeof(T);\n",
    "  var props = itemType.GetProperties(BindingFlags.Public | BindingFlags.Instance)\n",
    "                      .OrderBy(p => p.Name);\n",
    "\n",
    "  using (var writer = new StreamWriter(path))\n",
    "  {\n",
    "    writer.WriteLine(string.Join(\", \", props.Select(p => p.Name)));\n",
    "\n",
    "    foreach (var item in items)\n",
    "    {\n",
    "      writer.WriteLine(string.Join(\", \", props.Select(p => p.GetValue(item, null))));\n",
    "    }\n",
    "  }\n",
    "}\n",
    "\n",
    "public static string GenerateReport<T>(List<T> items) where T : class\n",
    "{\n",
    "    var output = \"\";\n",
    "    var delimiter = \",\";\n",
    "    var properties = typeof(T).GetProperties();\n",
    "    using (var sw = new StringWriter())\n",
    "    {\n",
    "        var header = properties\n",
    "            .Select(n => n.Name)\n",
    "            .Aggregate((a, b) => a + delimiter + b);\n",
    "        sw.WriteLine(header);\n",
    "        foreach (var item in items)\n",
    "        {\n",
    "            var row = properties\n",
    "                .Select(n => n.GetValue(item, null))\n",
    "                .Select(n => n == null ? null : n.ToString())\n",
    "                .Aggregate((a, b) => a + delimiter + b);\n",
    "            sw.WriteLine(row);\n",
    "        }\n",
    "        output = sw.ToString();\n",
    "    }\n",
    "    return output;\n",
    "}\n",
    "\n",
    "List<BserClient.Types.UserGameObj>  userGames = new List<BserClient.Types.UserGameObj> {};\n",
    "// https://docs.microsoft.com/en-us/dotnet/csharp/language-reference/compiler-messages/cs8411\n",
    "await foreach (var games in FetchGames(user_id))\n",
    "{\n",
    "    foreach (var game in games.userGames) {\n",
    "        // ranked games for season 3\n",
    "        if (game.matchingMode == 3 &&  game.seasonId == 3)\n",
    "        {\n",
    "            // solo queue only\n",
    "            if (game.matchingTeamMode == 1) \n",
    "            {\n",
    "                userGames.Add(game);\n",
    "            }\n",
    "        }\n",
    "    }\n",
    "    Console.WriteLine(\"Getting game up to \" + games.next);\n",
    "}\n",
    "\n",
    "var json = JsonSerializer.Serialize(userGames);\n",
    "// WriteCSV<BserClient.Types.UserGameObj>(userGames, \"test.csv\");\n",
    "// synchronous method\n",
    "// var usergames = await getAllGames(user_id);\n",
    "File.WriteAllText(\"games.json\", json);"
   ],
   "outputs": [
    {
     "data": {
      "text/plain": [
       "Getting game up to 10131922\n"
      ]
     },
     "metadata": {},
     "output_type": "display_data"
    },
    {
     "data": {
      "text/plain": [
       "Getting game up to 10097605\n"
      ]
     },
     "metadata": {},
     "output_type": "display_data"
    },
    {
     "data": {
      "text/plain": [
       "Getting game up to 10070953\n"
      ]
     },
     "metadata": {},
     "output_type": "display_data"
    },
    {
     "data": {
      "text/plain": [
       "Getting game up to 10047440\n"
      ]
     },
     "metadata": {},
     "output_type": "display_data"
    },
    {
     "data": {
      "text/plain": [
       "Getting game up to 10022390\n"
      ]
     },
     "metadata": {},
     "output_type": "display_data"
    },
    {
     "data": {
      "text/plain": [
       "Getting game up to 10015741\n"
      ]
     },
     "metadata": {},
     "output_type": "display_data"
    },
    {
     "data": {
      "text/plain": [
       "Getting game up to 10010654\n"
      ]
     },
     "metadata": {},
     "output_type": "display_data"
    },
    {
     "data": {
      "text/plain": [
       "Getting game up to 9994614\n"
      ]
     },
     "metadata": {},
     "output_type": "display_data"
    },
    {
     "data": {
      "text/plain": [
       "Getting game up to 9957290\n"
      ]
     },
     "metadata": {},
     "output_type": "display_data"
    },
    {
     "data": {
      "text/plain": [
       "Getting game up to 9910358\n"
      ]
     },
     "metadata": {},
     "output_type": "display_data"
    },
    {
     "data": {
      "text/plain": [
       "Getting game up to 9880604\n"
      ]
     },
     "metadata": {},
     "output_type": "display_data"
    },
    {
     "data": {
      "text/plain": [
       "Getting game up to 9869486\n"
      ]
     },
     "metadata": {},
     "output_type": "display_data"
    },
    {
     "data": {
      "text/plain": [
       "Getting game up to 9835632\n"
      ]
     },
     "metadata": {},
     "output_type": "display_data"
    },
    {
     "data": {
      "text/plain": [
       "Getting game up to 9809025\n"
      ]
     },
     "metadata": {},
     "output_type": "display_data"
    },
    {
     "data": {
      "text/plain": [
       "Getting game up to 9783437\n"
      ]
     },
     "metadata": {},
     "output_type": "display_data"
    },
    {
     "data": {
      "text/plain": [
       "Getting game up to 9759330\n"
      ]
     },
     "metadata": {},
     "output_type": "display_data"
    },
    {
     "data": {
      "text/plain": [
       "Getting game up to 9676975\n"
      ]
     },
     "metadata": {},
     "output_type": "display_data"
    },
    {
     "data": {
      "text/plain": [
       "Getting game up to 9655830\n"
      ]
     },
     "metadata": {},
     "output_type": "display_data"
    },
    {
     "data": {
      "text/plain": [
       "Getting game up to 9635015\n"
      ]
     },
     "metadata": {},
     "output_type": "display_data"
    },
    {
     "data": {
      "text/plain": [
       "Getting game up to 9632149\n"
      ]
     },
     "metadata": {},
     "output_type": "display_data"
    },
    {
     "data": {
      "text/plain": [
       "Getting game up to 9584271\n"
      ]
     },
     "metadata": {},
     "output_type": "display_data"
    },
    {
     "data": {
      "text/plain": [
       "Getting game up to 9574356\n"
      ]
     },
     "metadata": {},
     "output_type": "display_data"
    },
    {
     "data": {
      "text/plain": [
       "Getting game up to 9552789\n"
      ]
     },
     "metadata": {},
     "output_type": "display_data"
    },
    {
     "data": {
      "text/plain": [
       "Getting game up to 9516904\n"
      ]
     },
     "metadata": {},
     "output_type": "display_data"
    },
    {
     "data": {
      "text/plain": [
       "Getting game up to 9500522\n"
      ]
     },
     "metadata": {},
     "output_type": "display_data"
    },
    {
     "data": {
      "text/plain": [
       "Getting game up to 9477324\n"
      ]
     },
     "metadata": {},
     "output_type": "display_data"
    },
    {
     "data": {
      "text/plain": [
       "Getting game up to 9365961\n"
      ]
     },
     "metadata": {},
     "output_type": "display_data"
    },
    {
     "data": {
      "text/plain": [
       "Getting game up to 9339864\n"
      ]
     },
     "metadata": {},
     "output_type": "display_data"
    },
    {
     "data": {
      "text/plain": [
       "Getting game up to 9315894\n"
      ]
     },
     "metadata": {},
     "output_type": "display_data"
    },
    {
     "data": {
      "text/plain": [
       "Getting game up to 9290698\n"
      ]
     },
     "metadata": {},
     "output_type": "display_data"
    },
    {
     "data": {
      "text/plain": [
       "Getting game up to 9200710\n"
      ]
     },
     "metadata": {},
     "output_type": "display_data"
    },
    {
     "data": {
      "text/plain": [
       "Getting game up to 9107489\n"
      ]
     },
     "metadata": {},
     "output_type": "display_data"
    },
    {
     "data": {
      "text/plain": [
       "Getting game up to 9084382\n"
      ]
     },
     "metadata": {},
     "output_type": "display_data"
    },
    {
     "data": {
      "text/plain": [
       "Getting game up to 9042635\n"
      ]
     },
     "metadata": {},
     "output_type": "display_data"
    },
    {
     "data": {
      "text/plain": [
       "Getting game up to 9039316\n"
      ]
     },
     "metadata": {},
     "output_type": "display_data"
    },
    {
     "data": {
      "text/plain": [
       "Getting game up to 9035785\n"
      ]
     },
     "metadata": {},
     "output_type": "display_data"
    },
    {
     "data": {
      "text/plain": [
       "Getting game up to 9010977\n"
      ]
     },
     "metadata": {},
     "output_type": "display_data"
    },
    {
     "data": {
      "text/plain": [
       "Getting game up to 9000329\n"
      ]
     },
     "metadata": {},
     "output_type": "display_data"
    },
    {
     "data": {
      "text/plain": [
       "Getting game up to 8981806\n"
      ]
     },
     "metadata": {},
     "output_type": "display_data"
    },
    {
     "data": {
      "text/plain": [
       "Getting game up to 8979037\n"
      ]
     },
     "metadata": {},
     "output_type": "display_data"
    },
    {
     "data": {
      "text/plain": [
       "Getting game up to 8951191\n"
      ]
     },
     "metadata": {},
     "output_type": "display_data"
    },
    {
     "data": {
      "text/plain": [
       "Getting game up to 8927492\n"
      ]
     },
     "metadata": {},
     "output_type": "display_data"
    },
    {
     "data": {
      "text/plain": [
       "Getting game up to 8906686\n"
      ]
     },
     "metadata": {},
     "output_type": "display_data"
    },
    {
     "data": {
      "text/plain": [
       "Getting game up to 8883569\n"
      ]
     },
     "metadata": {},
     "output_type": "display_data"
    },
    {
     "data": {
      "text/plain": [
       "Getting game up to 8873169\n"
      ]
     },
     "metadata": {},
     "output_type": "display_data"
    },
    {
     "data": {
      "text/plain": [
       "Getting game up to 8857241\n"
      ]
     },
     "metadata": {},
     "output_type": "display_data"
    },
    {
     "data": {
      "text/plain": [
       "Getting game up to 8828039\n"
      ]
     },
     "metadata": {},
     "output_type": "display_data"
    },
    {
     "data": {
      "text/plain": [
       "Getting game up to 8823961\n"
      ]
     },
     "metadata": {},
     "output_type": "display_data"
    },
    {
     "data": {
      "text/plain": [
       "Getting game up to 8801783\n"
      ]
     },
     "metadata": {},
     "output_type": "display_data"
    },
    {
     "data": {
      "text/plain": [
       "Getting game up to 8770836\n"
      ]
     },
     "metadata": {},
     "output_type": "display_data"
    },
    {
     "data": {
      "text/plain": [
       "Getting game up to 8768554\n"
      ]
     },
     "metadata": {},
     "output_type": "display_data"
    },
    {
     "data": {
      "text/plain": [
       "Getting game up to 8766790\n"
      ]
     },
     "metadata": {},
     "output_type": "display_data"
    },
    {
     "data": {
      "text/plain": [
       "Getting game up to 8759923\n"
      ]
     },
     "metadata": {},
     "output_type": "display_data"
    },
    {
     "data": {
      "text/plain": [
       "Getting game up to 8743398\n"
      ]
     },
     "metadata": {},
     "output_type": "display_data"
    },
    {
     "data": {
      "text/plain": [
       "Getting game up to 8723032\n"
      ]
     },
     "metadata": {},
     "output_type": "display_data"
    },
    {
     "data": {
      "text/plain": [
       "Getting game up to 8721028\n"
      ]
     },
     "metadata": {},
     "output_type": "display_data"
    },
    {
     "data": {
      "text/plain": [
       "Getting game up to 8697583\n"
      ]
     },
     "metadata": {},
     "output_type": "display_data"
    },
    {
     "data": {
      "text/plain": [
       "Getting game up to 8676665\n"
      ]
     },
     "metadata": {},
     "output_type": "display_data"
    },
    {
     "data": {
      "text/plain": [
       "Getting game up to 8668455\n"
      ]
     },
     "metadata": {},
     "output_type": "display_data"
    },
    {
     "data": {
      "text/plain": [
       "Getting game up to 8646540\n"
      ]
     },
     "metadata": {},
     "output_type": "display_data"
    },
    {
     "data": {
      "text/plain": [
       "Getting game up to 8615322\n"
      ]
     },
     "metadata": {},
     "output_type": "display_data"
    },
    {
     "data": {
      "text/plain": [
       "Getting game up to 8612463\n"
      ]
     },
     "metadata": {},
     "output_type": "display_data"
    },
    {
     "data": {
      "text/plain": [
       "Getting game up to 8588568\n"
      ]
     },
     "metadata": {},
     "output_type": "display_data"
    },
    {
     "data": {
      "text/plain": [
       "Getting game up to 8562572\n"
      ]
     },
     "metadata": {},
     "output_type": "display_data"
    },
    {
     "data": {
      "text/plain": [
       "Getting game up to 8533575\n"
      ]
     },
     "metadata": {},
     "output_type": "display_data"
    },
    {
     "data": {
      "text/plain": [
       "Getting game up to 8523610\n"
      ]
     },
     "metadata": {},
     "output_type": "display_data"
    },
    {
     "data": {
      "text/plain": [
       "Getting game up to 8503224\n"
      ]
     },
     "metadata": {},
     "output_type": "display_data"
    },
    {
     "data": {
      "text/plain": [
       "Getting game up to 8494475\n"
      ]
     },
     "metadata": {},
     "output_type": "display_data"
    },
    {
     "data": {
      "text/plain": [
       "Getting game up to 8476057\n"
      ]
     },
     "metadata": {},
     "output_type": "display_data"
    },
    {
     "data": {
      "text/plain": [
       "Getting game up to 8465804\n"
      ]
     },
     "metadata": {},
     "output_type": "display_data"
    },
    {
     "data": {
      "text/plain": [
       "Getting game up to 8426900\n"
      ]
     },
     "metadata": {},
     "output_type": "display_data"
    },
    {
     "data": {
      "text/plain": [
       "Getting game up to 8396735\n"
      ]
     },
     "metadata": {},
     "output_type": "display_data"
    },
    {
     "data": {
      "text/plain": [
       "Getting game up to 8368569\n"
      ]
     },
     "metadata": {},
     "output_type": "display_data"
    },
    {
     "data": {
      "text/plain": [
       "Getting game up to 8355823\n"
      ]
     },
     "metadata": {},
     "output_type": "display_data"
    },
    {
     "data": {
      "text/plain": [
       "Getting game up to 8329510\n"
      ]
     },
     "metadata": {},
     "output_type": "display_data"
    },
    {
     "data": {
      "text/plain": [
       "Getting game up to 8310863\n"
      ]
     },
     "metadata": {},
     "output_type": "display_data"
    },
    {
     "data": {
      "text/plain": [
       "Getting game up to 8282788\n"
      ]
     },
     "metadata": {},
     "output_type": "display_data"
    },
    {
     "data": {
      "text/plain": [
       "Getting game up to 8281042\n"
      ]
     },
     "metadata": {},
     "output_type": "display_data"
    },
    {
     "data": {
      "text/plain": [
       "Getting game up to 8279751\n"
      ]
     },
     "metadata": {},
     "output_type": "display_data"
    },
    {
     "data": {
      "text/plain": [
       "Getting game up to 8273741\n"
      ]
     },
     "metadata": {},
     "output_type": "display_data"
    },
    {
     "data": {
      "text/plain": [
       "Getting game up to 8252654\n"
      ]
     },
     "metadata": {},
     "output_type": "display_data"
    },
    {
     "data": {
      "text/plain": [
       "Getting game up to 8251172\n"
      ]
     },
     "metadata": {},
     "output_type": "display_data"
    },
    {
     "data": {
      "text/plain": [
       "Getting game up to 8247382\n"
      ]
     },
     "metadata": {},
     "output_type": "display_data"
    },
    {
     "data": {
      "text/plain": [
       "Getting game up to 8221485\n"
      ]
     },
     "metadata": {},
     "output_type": "display_data"
    },
    {
     "data": {
      "text/plain": [
       "Getting game up to 8216788\n"
      ]
     },
     "metadata": {},
     "output_type": "display_data"
    },
    {
     "data": {
      "text/plain": [
       "Getting game up to 8205802\n"
      ]
     },
     "metadata": {},
     "output_type": "display_data"
    },
    {
     "data": {
      "text/plain": [
       "Getting game up to 8179304\n"
      ]
     },
     "metadata": {},
     "output_type": "display_data"
    },
    {
     "data": {
      "text/plain": [
       "Getting game up to 8164489\n"
      ]
     },
     "metadata": {},
     "output_type": "display_data"
    },
    {
     "data": {
      "text/plain": [
       "Getting game up to 8147641\n"
      ]
     },
     "metadata": {},
     "output_type": "display_data"
    },
    {
     "data": {
      "text/plain": [
       "Getting game up to 8136785\n"
      ]
     },
     "metadata": {},
     "output_type": "display_data"
    },
    {
     "data": {
      "text/plain": [
       "Getting game up to 8116001\n"
      ]
     },
     "metadata": {},
     "output_type": "display_data"
    },
    {
     "data": {
      "text/plain": [
       "Getting game up to 8082074\n"
      ]
     },
     "metadata": {},
     "output_type": "display_data"
    },
    {
     "data": {
      "text/plain": [
       "Getting game up to 8047240\n"
      ]
     },
     "metadata": {},
     "output_type": "display_data"
    },
    {
     "data": {
      "text/plain": [
       "Getting game up to 8008223\n"
      ]
     },
     "metadata": {},
     "output_type": "display_data"
    },
    {
     "data": {
      "text/plain": [
       "Getting game up to 7975036\n"
      ]
     },
     "metadata": {},
     "output_type": "display_data"
    },
    {
     "data": {
      "text/plain": [
       "Getting game up to 7969927\n"
      ]
     },
     "metadata": {},
     "output_type": "display_data"
    },
    {
     "data": {
      "text/plain": [
       "Getting game up to 7965827\n"
      ]
     },
     "metadata": {},
     "output_type": "display_data"
    },
    {
     "data": {
      "text/plain": [
       "Getting game up to 7937209\n"
      ]
     },
     "metadata": {},
     "output_type": "display_data"
    },
    {
     "data": {
      "text/plain": [
       "Getting game up to 7917101\n"
      ]
     },
     "metadata": {},
     "output_type": "display_data"
    },
    {
     "data": {
      "text/plain": [
       "Getting game up to 7885568\n"
      ]
     },
     "metadata": {},
     "output_type": "display_data"
    },
    {
     "data": {
      "text/plain": [
       "Getting game up to 7857444\n"
      ]
     },
     "metadata": {},
     "output_type": "display_data"
    },
    {
     "data": {
      "text/plain": [
       "Getting game up to 7853828\n"
      ]
     },
     "metadata": {},
     "output_type": "display_data"
    },
    {
     "data": {
      "text/plain": [
       "Getting game up to 7756362\n"
      ]
     },
     "metadata": {},
     "output_type": "display_data"
    },
    {
     "data": {
      "text/plain": [
       "Getting game up to 7725067\n"
      ]
     },
     "metadata": {},
     "output_type": "display_data"
    },
    {
     "data": {
      "text/plain": [
       "Getting game up to 7712911\n"
      ]
     },
     "metadata": {},
     "output_type": "display_data"
    },
    {
     "data": {
      "text/plain": [
       "Getting game up to 7653772\n"
      ]
     },
     "metadata": {},
     "output_type": "display_data"
    },
    {
     "data": {
      "text/plain": [
       "Getting game up to 7628384\n"
      ]
     },
     "metadata": {},
     "output_type": "display_data"
    },
    {
     "data": {
      "text/plain": [
       "Getting game up to 7592865\n"
      ]
     },
     "metadata": {},
     "output_type": "display_data"
    },
    {
     "data": {
      "text/plain": [
       "Getting game up to 0\n"
      ]
     },
     "metadata": {},
     "output_type": "display_data"
    }
   ],
   "metadata": {
    "dotnet_interactive": {
     "language": "csharp"
    }
   }
  },
  {
   "cell_type": "code",
   "execution_count": null,
   "source": [],
   "outputs": [],
   "metadata": {
    "dotnet_interactive": {
     "language": "csharp"
    }
   }
  }
 ],
 "metadata": {
  "interpreter": {
   "hash": "d9af2e32a5ad6e5c5f98229481d7f4ca3d60c1f6ad52fd9ba4da285d14500705"
  },
  "kernelspec": {
   "display_name": ".NET (C#)",
   "name": ".net-csharp",
   "language": "C#"
  },
  "language_info": {
   "file_extension": ".cs",
   "mimetype": "text/x-csharp",
   "name": "C#",
   "pygments_lexer": "csharp",
   "version": "9.0"
  }
 },
 "nbformat": 4,
 "nbformat_minor": 2
}